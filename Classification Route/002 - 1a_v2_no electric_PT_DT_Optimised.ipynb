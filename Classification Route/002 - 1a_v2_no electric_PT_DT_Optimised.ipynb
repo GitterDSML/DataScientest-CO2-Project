{
 "cells": [
  {
   "cell_type": "code",
   "execution_count": 6,
   "id": "d0b49901-4285-484f-b09e-296bb1b289f3",
   "metadata": {},
   "outputs": [],
   "source": [
    "import pandas as pd\n",
    "import numpy as np\n",
    "from sklearn.model_selection import train_test_split, RandomizedSearchCV\n",
    "from sklearn.tree import DecisionTreeClassifier\n",
    "from sklearn.preprocessing import OneHotEncoder\n",
    "from sklearn.compose import ColumnTransformer\n",
    "from sklearn.pipeline import Pipeline\n",
    "from sklearn.feature_selection import SelectKBest, f_classif\n",
    "from sklearn.metrics import confusion_matrix, accuracy_score\n",
    "import shap"
   ]
  },
  {
   "cell_type": "code",
   "execution_count": 7,
   "id": "f65789ef-23b5-40c6-8e8a-84a1887cc7ef",
   "metadata": {},
   "outputs": [],
   "source": [
    "# Load data\n",
    "df = pd.read_csv('/Users/livalacaisse/Documents/DataScience/CO2/000-C02 First Delivery/Cleaned_countries/Cl_no_FR/PT_Cleaned.csv')\n",
    "var_to_include = ['Em_on_target', 'Fuel consumption', 'Engine_cm3', 'Electric range (km)', 'Kg_veh', 'Test_mass', 'Power_KW', 'El_Consumpt_whkm', 'Energy', 'Fuel_mode', 'Brand', 'Veh_type', 'Veh_Model']\n",
    "dfdt = df[var_to_include]\n",
    "\n",
    "# Drop duplicates\n",
    "dfdt = dfdt.drop_duplicates()\n",
    "\n",
    "# Drop vehicles with 'Energy' as 'electric'\n",
    "dfdt = dfdt[dfdt['Energy'] != 'electric']"
   ]
  },
  {
   "cell_type": "code",
   "execution_count": 8,
   "id": "389826c2-69ee-45c8-a233-5a9b1fad036f",
   "metadata": {},
   "outputs": [],
   "source": [
    "# Split data\n",
    "X = dfdt.drop('Em_on_target', axis=1)\n",
    "y = dfdt['Em_on_target']\n",
    "X_train, X_test, y_train, y_test = train_test_split(X, y, test_size=0.2, random_state=42)"
   ]
  },
  {
   "cell_type": "code",
   "execution_count": 9,
   "id": "6aa9006c-ce2f-4788-a761-3cbd10406da6",
   "metadata": {},
   "outputs": [],
   "source": [
    "# Define OneHotEncoder and ColumnTransformer\n",
    "categorical_features = ['Energy', 'Fuel_mode', 'Brand', 'Veh_type', 'Veh_Model']\n",
    "one_hot_encoder = OneHotEncoder(handle_unknown='ignore', sparse_output=False)\n",
    "preprocessor = ColumnTransformer(\n",
    "    transformers=[\n",
    "        ('cat', one_hot_encoder, categorical_features)\n",
    "    ],\n",
    "    remainder='passthrough'\n",
    ")"
   ]
  },
  {
   "cell_type": "code",
   "execution_count": 10,
   "id": "c918fbf8-946a-49fb-af79-0d3f60b4828c",
   "metadata": {},
   "outputs": [],
   "source": [
    "# Create and fit the modeling pipeline\n",
    "pipeline = Pipeline([\n",
    "    ('preprocessor', preprocessor),\n",
    "    ('feature_selection', SelectKBest(score_func=f_classif)),\n",
    "    ('classifier', DecisionTreeClassifier(random_state=42))\n",
    "])"
   ]
  },
  {
   "cell_type": "code",
   "execution_count": 11,
   "id": "b20c0861-56b9-4fc6-a12e-a17cd526a8f5",
   "metadata": {},
   "outputs": [],
   "source": [
    "# Define parameter grid for RandomizedSearchCV\n",
    "param_grid = {\n",
    "    'feature_selection__k': [10, 15],\n",
    "    'classifier__max_depth': [None, 5, 10, 15],\n",
    "    'classifier__min_samples_split': [2, 5, 10, 20],\n",
    "    'classifier__min_samples_leaf': [1, 5, 10],\n",
    "    'classifier__ccp_alpha': [0.0, 0.01, 0.1]\n",
    "}"
   ]
  },
  {
   "cell_type": "code",
   "execution_count": 12,
   "id": "8eb8c0f1-5684-4a86-99a7-9092988882d7",
   "metadata": {},
   "outputs": [
    {
     "name": "stdout",
     "output_type": "stream",
     "text": [
      "Best parameters: {'feature_selection__k': 15, 'classifier__min_samples_split': 10, 'classifier__min_samples_leaf': 1, 'classifier__max_depth': 15, 'classifier__ccp_alpha': 0.0}\n",
      "Best cross-validated score: 0.9997302740415738\n",
      "Confusion Matrix:\n",
      " [[11028     2]\n",
      " [    0  2873]]\n",
      "Test Accuracy: 0.999856146155506\n"
     ]
    }
   ],
   "source": [
    "# Perform RandomizedSearchCV\n",
    "random_search = RandomizedSearchCV(estimator=pipeline, param_distributions=param_grid, n_iter=10, cv=2, scoring='accuracy', n_jobs=-1, random_state=42)\n",
    "random_search.fit(X_train, y_train)\n",
    "print(\"Best parameters:\", random_search.best_params_)\n",
    "print(\"Best cross-validated score:\", random_search.best_score_)\n",
    "\n",
    "# Evaluate the best model\n",
    "best_model = random_search.best_estimator_\n",
    "y_pred = best_model.predict(X_test)\n",
    "print(\"Confusion Matrix:\\n\", confusion_matrix(y_test, y_pred))\n",
    "print(\"Test Accuracy:\", accuracy_score(y_test, y_pred))"
   ]
  },
  {
   "cell_type": "code",
   "execution_count": 13,
   "id": "609ed721-c257-4b3f-a33d-46d766e62620",
   "metadata": {},
   "outputs": [
    {
     "name": "stdout",
     "output_type": "stream",
     "text": [
      "Important features: ['Energy_diesel', 'Energy_hybrid diesel', 'Energy_hybrid petrol', 'Energy_petrol', 'Fuel_mode_M', 'Fuel_mode_P', 'Brand_VOLVO', 'Veh_Model_A 250 E', 'Veh_Model_GLC 300 DE 4MATIC', 0, 2, 3, 4, 5, 6]\n"
     ]
    }
   ],
   "source": [
    "# Extract important features from the best model\n",
    "def get_feature_names(column_transformer):\n",
    "    output_features = []\n",
    "    for name, transformer, features in column_transformer.transformers_:\n",
    "        if name != 'remainder':\n",
    "            if hasattr(transformer, 'get_feature_names_out'):\n",
    "                transformer_features = transformer.get_feature_names_out(features)\n",
    "            else:\n",
    "                transformer_features = [f\"{name}_{f}\" for f in features]\n",
    "            output_features.extend(transformer_features)\n",
    "        else:\n",
    "            output_features.extend(features)\n",
    "    return output_features\n",
    "\n",
    "feature_selector = best_model.named_steps['feature_selection']\n",
    "features_selected = feature_selector.get_support()\n",
    "transformed_features = get_feature_names(best_model.named_steps['preprocessor'])\n",
    "important_features = [feature for feature, selected in zip(transformed_features, features_selected) if selected]\n",
    "print(\"Important features:\", important_features)"
   ]
  },
  {
   "cell_type": "code",
   "execution_count": 17,
   "id": "ebbc7459-c226-4df2-acac-5615435a0d06",
   "metadata": {
    "tags": []
   },
   "outputs": [
    {
     "name": "stdout",
     "output_type": "stream",
     "text": [
      "Feature importances:\n",
      "                         Feature  Importance\n",
      "10                            2    0.998028\n",
      "11                            3    0.000806\n",
      "9                             0    0.000474\n",
      "4                   Fuel_mode_M    0.000329\n",
      "12                            4    0.000247\n",
      "13                            5    0.000062\n",
      "14                            6    0.000055\n",
      "0                 Energy_diesel    0.000000\n",
      "1          Energy_hybrid diesel    0.000000\n",
      "2          Energy_hybrid petrol    0.000000\n",
      "3                 Energy_petrol    0.000000\n",
      "5                   Fuel_mode_P    0.000000\n",
      "6                   Brand_VOLVO    0.000000\n",
      "7             Veh_Model_A 250 E    0.000000\n",
      "8   Veh_Model_GLC 300 DE 4MATIC    0.000000\n",
      "Classification Report for Decision Tree:\n",
      "              precision    recall  f1-score   support\n",
      "\n",
      "           0       1.00      1.00      1.00     11030\n",
      "           1       1.00      1.00      1.00      2873\n",
      "\n",
      "    accuracy                           1.00     13903\n",
      "   macro avg       1.00      1.00      1.00     13903\n",
      "weighted avg       1.00      1.00      1.00     13903\n",
      "\n"
     ]
    }
   ],
   "source": [
    "# Extract feature importances\n",
    "importances = pd.DataFrame({\n",
    "    \"Feature\": important_features,\n",
    "    \"Importance\": best_model.named_steps['classifier'].feature_importances_\n",
    "}).sort_values(by=\"Importance\", ascending=False)\n",
    "print(\"Feature importances:\\n\", importances.head(15))\n",
    "\n",
    "from sklearn.metrics import classification_report\n",
    "\n",
    "print(\"Classification Report for Decision Tree:\")\n",
    "report_dt = classification_report(y_test, y_pred)\n",
    "print(report_dt)"
   ]
  },
  {
   "cell_type": "code",
   "execution_count": null,
   "id": "9fd2c5bc-3d8e-41c1-8b83-0023ba2813d6",
   "metadata": {},
   "outputs": [],
   "source": []
  }
 ],
 "metadata": {
  "kernelspec": {
   "display_name": "Python 3 (ipykernel)",
   "language": "python",
   "name": "python3"
  },
  "language_info": {
   "codemirror_mode": {
    "name": "ipython",
    "version": 3
   },
   "file_extension": ".py",
   "mimetype": "text/x-python",
   "name": "python",
   "nbconvert_exporter": "python",
   "pygments_lexer": "ipython3",
   "version": "3.11.7"
  }
 },
 "nbformat": 4,
 "nbformat_minor": 5
}
