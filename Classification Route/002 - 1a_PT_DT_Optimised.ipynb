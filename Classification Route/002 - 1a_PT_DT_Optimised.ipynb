{
 "cells": [
  {
   "cell_type": "code",
   "execution_count": 24,
   "id": "fa783ac8-1ff4-4607-b251-d9d425dd0678",
   "metadata": {},
   "outputs": [],
   "source": [
    "import pandas as pd\n",
    "import numpy as np\n",
    "from sklearn.model_selection import train_test_split, GridSearchCV\n",
    "from sklearn.tree import DecisionTreeClassifier\n",
    "from sklearn.preprocessing import OneHotEncoder\n",
    "from sklearn.compose import ColumnTransformer\n",
    "from sklearn.pipeline import Pipeline\n",
    "from sklearn.feature_selection import SelectKBest, f_classif\n",
    "from sklearn.metrics import confusion_matrix, accuracy_score\n",
    "import shap"
   ]
  },
  {
   "cell_type": "code",
   "execution_count": 25,
   "id": "a7eb0ef5-afaa-49da-9195-7d433e926128",
   "metadata": {},
   "outputs": [],
   "source": [
    "# Load data\n",
    "df = pd.read_csv('/Users/livalacaisse/Documents/DataScience/CO2/000-C02 First Delivery/Cleaned_countries/Cl_no_FR/PT_Cleaned.csv')\n",
    "var_to_include = ['Em_on_target', 'Fuel consumption', 'Engine_cm3', 'Electric range (km)', 'Kg_veh', 'Test_mass', 'Power_KW', 'El_Consumpt_whkm', 'Energy', 'Fuel_mode', 'Brand', 'Veh_type', 'Veh_Model']\n",
    "dfdt = df[var_to_include]"
   ]
  },
  {
   "cell_type": "code",
   "execution_count": 26,
   "id": "168f9a45-00f5-41a2-a42b-580d59c66539",
   "metadata": {},
   "outputs": [],
   "source": [
    "# Split data\n",
    "X = dfdt.drop('Em_on_target', axis=1)\n",
    "y = dfdt['Em_on_target']\n",
    "X_train, X_test, y_train, y_test = train_test_split(X, y, test_size=0.2, random_state=42)"
   ]
  },
  {
   "cell_type": "code",
   "execution_count": 27,
   "id": "66b96669-df5f-4bf5-a6f3-800897c07594",
   "metadata": {},
   "outputs": [],
   "source": [
    "# Define OneHotEncoder and ColumnTransformer\n",
    "categorical_features = ['Energy', 'Fuel_mode', 'Brand', 'Veh_type', 'Veh_Model']\n",
    "one_hot_encoder = OneHotEncoder(handle_unknown='ignore', sparse_output=False)\n",
    "preprocessor = ColumnTransformer(\n",
    "    transformers=[\n",
    "        ('cat', one_hot_encoder, categorical_features)\n",
    "    ],\n",
    "    remainder='passthrough'\n",
    ")"
   ]
  },
  {
   "cell_type": "code",
   "execution_count": 28,
   "id": "11c8c003-4e71-4b7e-8ddf-0ebb150f1e74",
   "metadata": {},
   "outputs": [],
   "source": [
    "# Create and fit the modeling pipeline\n",
    "pipeline = Pipeline([\n",
    "    ('preprocessor', preprocessor),\n",
    "    ('feature_selection', SelectKBest(score_func=f_classif)),\n",
    "    ('classifier', DecisionTreeClassifier(random_state=42))\n",
    "])"
   ]
  },
  {
   "cell_type": "code",
   "execution_count": 29,
   "id": "04d4d6a5-3751-4fcb-9778-a0dafc8d6420",
   "metadata": {},
   "outputs": [],
   "source": [
    "# Define parameter grid for GridSearchCV\n",
    "param_grid = {\n",
    "    'feature_selection__k': [10, 15],\n",
    "    'classifier__max_depth': [None, 5, 10, 15],\n",
    "    'classifier__min_samples_split': [2, 5, 10, 20],\n",
    "    'classifier__min_samples_leaf': [1, 5, 10],\n",
    "    'classifier__ccp_alpha': [0.0, 0.01, 0.1]\n",
    "}"
   ]
  },
  {
   "cell_type": "code",
   "execution_count": 30,
   "id": "03c6e8a2-53ee-4e01-999a-f592292c5499",
   "metadata": {},
   "outputs": [
    {
     "name": "stdout",
     "output_type": "stream",
     "text": [
      "Best parameters: {'classifier__ccp_alpha': 0.0, 'classifier__max_depth': None, 'classifier__min_samples_leaf': 1, 'classifier__min_samples_split': 2, 'feature_selection__k': 10}\n",
      "Best cross-validated score: 0.9999971119216984\n"
     ]
    }
   ],
   "source": [
    "# Perform GridSearchCV\n",
    "grid_search = GridSearchCV(estimator=pipeline, param_grid=param_grid, cv=2, scoring='accuracy', n_jobs=-1)\n",
    "grid_search.fit(X_train, y_train)\n",
    "print(\"Best parameters:\", grid_search.best_params_)\n",
    "print(\"Best cross-validated score:\", grid_search.best_score_)"
   ]
  },
  {
   "cell_type": "code",
   "execution_count": 31,
   "id": "202dacef-815f-4638-90d4-4fa6aa8e6e62",
   "metadata": {},
   "outputs": [
    {
     "name": "stdout",
     "output_type": "stream",
     "text": [
      "Confusion Matrix:\n",
      " [[152618      0]\n",
      " [     0  20508]]\n",
      "Test Accuracy: 1.0\n"
     ]
    }
   ],
   "source": [
    "# Evaluate the best model\n",
    "best_model = grid_search.best_estimator_\n",
    "y_pred = best_model.predict(X_test)\n",
    "print(\"Confusion Matrix:\\n\", confusion_matrix(y_test, y_pred))\n",
    "print(\"Test Accuracy:\", accuracy_score(y_test, y_pred))"
   ]
  },
  {
   "cell_type": "code",
   "execution_count": 32,
   "id": "cb0f9a34-c69c-4543-885c-4f3d298b0e2e",
   "metadata": {},
   "outputs": [
    {
     "name": "stdout",
     "output_type": "stream",
     "text": [
      "Important features: ['Energy_electric', 'Energy_hybrid petrol', 'Fuel_mode_E', 'Fuel_mode_M', 'Fuel_mode_P', 0, 2, 3, 4, 6]\n"
     ]
    }
   ],
   "source": [
    "# Extract important features from the best model\n",
    "def get_feature_names(column_transformer):\n",
    "    output_features = []\n",
    "    for name, transformer, features in column_transformer.transformers_:\n",
    "        if name != 'remainder':\n",
    "            if hasattr(transformer, 'get_feature_names_out'):\n",
    "                transformer_features = transformer.get_feature_names_out(features)\n",
    "            else:\n",
    "                transformer_features = [f\"{name}_{f}\" for f in features]\n",
    "            output_features.extend(transformer_features)\n",
    "        else:\n",
    "            output_features.extend(features)\n",
    "    return output_features\n",
    "\n",
    "feature_selector = best_model.named_steps['feature_selection']\n",
    "features_selected = feature_selector.get_support()\n",
    "transformed_features = get_feature_names(best_model.named_steps['preprocessor'])\n",
    "important_features = [feature for feature, selected in zip(transformed_features, features_selected) if selected]\n",
    "print(\"Important features:\", important_features)"
   ]
  },
  {
   "cell_type": "code",
   "execution_count": 33,
   "id": "5f9e52ec-8d4d-42a6-8904-91e020f5365a",
   "metadata": {},
   "outputs": [
    {
     "name": "stdout",
     "output_type": "stream",
     "text": [
      "Feature importances:\n",
      "                 Feature  Importance\n",
      "6                     2    0.971286\n",
      "5                     0    0.021044\n",
      "8                     4    0.005928\n",
      "7                     3    0.001177\n",
      "9                     6    0.000513\n",
      "3           Fuel_mode_M    0.000053\n",
      "0       Energy_electric    0.000000\n",
      "1  Energy_hybrid petrol    0.000000\n"
     ]
    }
   ],
   "source": [
    "# Extract feature importances\n",
    "importances = pd.DataFrame({\n",
    "    \"Feature\": important_features,\n",
    "    \"Importance\": best_model.named_steps['classifier'].feature_importances_\n",
    "}).sort_values(by=\"Importance\", ascending=False)\n",
    "print(\"Feature importances:\\n\", importances.head(8))"
   ]
  },
  {
   "cell_type": "code",
   "execution_count": 40,
   "id": "1cf268df-6648-4630-8439-b93ec01406c7",
   "metadata": {
    "tags": []
   },
   "outputs": [],
   "source": [
    "from sklearn.metrics import classification_report"
   ]
  },
  {
   "cell_type": "code",
   "execution_count": 43,
   "id": "aa8a5eab-1cb5-435c-a045-09a9c8a462ef",
   "metadata": {
    "tags": []
   },
   "outputs": [
    {
     "name": "stdout",
     "output_type": "stream",
     "text": [
      "Classification Report for Decision Tree:\n",
      "              precision    recall  f1-score   support\n",
      "\n",
      "           0       1.00      1.00      1.00    152618\n",
      "           1       1.00      1.00      1.00     20508\n",
      "\n",
      "    accuracy                           1.00    173126\n",
      "   macro avg       1.00      1.00      1.00    173126\n",
      "weighted avg       1.00      1.00      1.00    173126\n",
      "\n"
     ]
    }
   ],
   "source": [
    "print(\"Classification Report for Decision Tree:\")\n",
    "report_dt = classification_report(y_test, y_pred)\n",
    "print(report_dt)"
   ]
  },
  {
   "cell_type": "code",
   "execution_count": null,
   "id": "9f421caf-201f-4634-b92a-4f763e6d3ecf",
   "metadata": {},
   "outputs": [],
   "source": []
  }
 ],
 "metadata": {
  "kernelspec": {
   "display_name": "Python 3 (ipykernel)",
   "language": "python",
   "name": "python3"
  },
  "language_info": {
   "codemirror_mode": {
    "name": "ipython",
    "version": 3
   },
   "file_extension": ".py",
   "mimetype": "text/x-python",
   "name": "python",
   "nbconvert_exporter": "python",
   "pygments_lexer": "ipython3",
   "version": "3.11.7"
  }
 },
 "nbformat": 4,
 "nbformat_minor": 5
}
