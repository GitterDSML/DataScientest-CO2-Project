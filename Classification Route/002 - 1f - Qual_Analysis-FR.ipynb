{
 "cells": [
  {
   "cell_type": "code",
   "execution_count": null,
   "id": "98958405-e9fa-4eec-8909-e5bbf06be299",
   "metadata": {
    "tags": []
   },
   "outputs": [
    {
     "name": "stdout",
     "output_type": "stream",
     "text": [
      "Evaluating Veh_type...\n"
     ]
    }
   ],
   "source": [
    "import pandas as pd\n",
    "import numpy as np\n",
    "import statsmodels.api as sm\n",
    "from statsmodels.formula.api import ols\n",
    "from scipy.stats import spearmanr, chi2_contingency\n",
    "\n",
    "def evaluate_single_categorical_relationship(df, cat_var, continuous_var, dichotomous_var):\n",
    "    results = {}\n",
    "    print(f\"Evaluating {cat_var}...\")\n",
    "    \n",
    "    # ANOVA\n",
    "    model = ols(f'{continuous_var} ~ C({cat_var})', data=df).fit()\n",
    "    anova_table = sm.stats.anova_lm(model, typ=2)\n",
    "    results['ANOVA F'] = model.fvalue\n",
    "    results['ANOVA p-value'] = model.f_pvalue\n",
    "    results['Eta squared'] = anova_table['sum_sq'].iloc[0] / anova_table['sum_sq'].sum()\n",
    "\n",
    "    # Spearman's Rank Correlation\n",
    "    df[f'{cat_var}_code'] = df[cat_var].astype('category').cat.codes\n",
    "    spearman_corr, spearman_p_value = spearmanr(df[f'{cat_var}_code'], df[continuous_var])\n",
    "    results['Spearman Correlation'] = spearman_corr\n",
    "    results['Spearman p-value'] = spearman_p_value\n",
    "\n",
    "    # Cramér's V\n",
    "    contingency_table = pd.crosstab(df[cat_var], df[dichotomous_var])\n",
    "    chi2, p, dof, expected = chi2_contingency(contingency_table)\n",
    "    n = contingency_table.sum().sum()\n",
    "    phi2 = chi2 / n\n",
    "    cramers_v = np.sqrt(phi2 / (min(contingency_table.shape) - 1))\n",
    "    results['Cramér\\'s V'] = cramers_v\n",
    "    results['Cramér\\'s p-value'] = p\n",
    "\n",
    "    return pd.DataFrame([results], index=[cat_var])\n",
    "\n",
    "# Data Preparation\n",
    "categorical_vars = ['Veh_type', 'Veh_Model', 'Energy', 'Fuel_mode']\n",
    "continuous_var = 'CO2_wltp'\n",
    "dichotomous_var = 'Em_on_target'\n",
    "df = pd.read_csv('/Users/livalacaisse/Documents/DataScience/CO2/000-C02 First Delivery/Cleaned_countries/FR_Cleaned.csv', low_memory=False)  # Ensure this CSV is properly formatted and the path is correct\n",
    "\n",
    "# Run analysis for each category and accumulate results\n",
    "all_results = pd.DataFrame()\n",
    "for cat_var in categorical_vars:\n",
    "    cat_results = evaluate_single_categorical_relationship(df, cat_var, continuous_var, dichotomous_var)\n",
    "    all_results = pd.concat([all_results, cat_results])\n",
    "\n",
    "# Output results\n",
    "print(all_results)\n",
    "all_results.to_csv('categorical_relationships_fr.csv', index=True)\n",
    "\n",
    "### excluded 'Version'"
   ]
  },
  {
   "cell_type": "code",
   "execution_count": null,
   "id": "964a6080-4192-478f-8831-46020d399836",
   "metadata": {
    "tags": []
   },
   "outputs": [],
   "source": [
    "display(all_results)"
   ]
  },
  {
   "cell_type": "code",
   "execution_count": null,
   "id": "74500c63-1ce0-481e-87ea-f9277fbf0b4e",
   "metadata": {
    "tags": []
   },
   "outputs": [],
   "source": [
    "## Evaluating the version separately due to the high number of modalities\n",
    "\n",
    "#version_result = evaluate_single_categorical_relationship(df_Ptfinal, 'Version', continuous_var, dichotomous_var)\n",
    "#all_results = pd.concat([all_results, pd.DataFrame([version_result])], ignore_index=True)"
   ]
  },
  {
   "cell_type": "code",
   "execution_count": null,
   "id": "333c61d3-816b-44d3-ba2b-65688174242b",
   "metadata": {
    "tags": []
   },
   "outputs": [],
   "source": [
    "all"
   ]
  },
  {
   "cell_type": "code",
   "execution_count": null,
   "id": "802dad38-390a-4c5a-962c-aaacd468bb79",
   "metadata": {
    "tags": []
   },
   "outputs": [],
   "source": [
    "all_results.info()"
   ]
  },
  {
   "cell_type": "code",
   "execution_count": null,
   "id": "eacac33b-e007-49f0-ba17-527565a7322b",
   "metadata": {},
   "outputs": [],
   "source": []
  }
 ],
 "metadata": {
  "kernelspec": {
   "display_name": "Python 3 (ipykernel)",
   "language": "python",
   "name": "python3"
  },
  "language_info": {
   "codemirror_mode": {
    "name": "ipython",
    "version": 3
   },
   "file_extension": ".py",
   "mimetype": "text/x-python",
   "name": "python",
   "nbconvert_exporter": "python",
   "pygments_lexer": "ipython3",
   "version": "3.11.7"
  }
 },
 "nbformat": 4,
 "nbformat_minor": 5
}
