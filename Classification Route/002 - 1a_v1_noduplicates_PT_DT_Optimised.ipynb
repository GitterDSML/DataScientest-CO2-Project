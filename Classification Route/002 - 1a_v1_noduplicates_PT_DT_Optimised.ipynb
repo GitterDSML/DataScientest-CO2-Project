{
 "cells": [
  {
   "cell_type": "code",
   "execution_count": 1,
   "id": "9e877aff-c2dd-4a00-aad9-44d57b240411",
   "metadata": {},
   "outputs": [],
   "source": [
    "import pandas as pd\n",
    "import numpy as np\n",
    "from sklearn.model_selection import train_test_split, RandomizedSearchCV\n",
    "from sklearn.tree import DecisionTreeClassifier\n",
    "from sklearn.preprocessing import OneHotEncoder\n",
    "from sklearn.compose import ColumnTransformer\n",
    "from sklearn.pipeline import Pipeline\n",
    "from sklearn.feature_selection import SelectKBest, f_classif\n",
    "from sklearn.metrics import confusion_matrix, accuracy_score"
   ]
  },
  {
   "cell_type": "code",
   "execution_count": 2,
   "id": "57022a99-a1ae-4830-9eea-b025b55d909f",
   "metadata": {},
   "outputs": [],
   "source": [
    "# Load data\n",
    "df = pd.read_csv('/Users/livalacaisse/Documents/DataScience/CO2/000-C02 First Delivery/Cleaned_countries/Cl_no_FR/PT_Cleaned.csv')\n",
    "var_to_include = ['Em_on_target', 'Fuel consumption', 'Engine_cm3', 'Electric range (km)', 'Kg_veh', 'Test_mass', 'Power_KW', 'El_Consumpt_whkm', 'Energy', 'Fuel_mode', 'Brand', 'Veh_type', 'Veh_Model']\n",
    "dfdt = df[var_to_include]\n",
    "\n",
    "# Drop duplicates\n",
    "dfdt = dfdt.drop_duplicates()"
   ]
  },
  {
   "cell_type": "code",
   "execution_count": 3,
   "id": "31f4e613-7a32-4875-80ec-7dfcdb512a23",
   "metadata": {},
   "outputs": [],
   "source": [
    "# Split data\n",
    "X = dfdt.drop('Em_on_target', axis=1)\n",
    "y = dfdt['Em_on_target']\n",
    "X_train, X_test, y_train, y_test = train_test_split(X, y, test_size=0.2, random_state=42)"
   ]
  },
  {
   "cell_type": "code",
   "execution_count": 4,
   "id": "67a3ec3c-d5b6-444d-856d-c074b6b8d512",
   "metadata": {},
   "outputs": [],
   "source": [
    "# Define OneHotEncoder and ColumnTransformer\n",
    "categorical_features = ['Energy', 'Fuel_mode', 'Brand', 'Veh_type', 'Veh_Model']\n",
    "one_hot_encoder = OneHotEncoder(handle_unknown='ignore', sparse_output=False)\n",
    "preprocessor = ColumnTransformer(\n",
    "    transformers=[\n",
    "        ('cat', one_hot_encoder, categorical_features)\n",
    "    ],\n",
    "    remainder='passthrough'\n",
    ")"
   ]
  },
  {
   "cell_type": "code",
   "execution_count": 5,
   "id": "89373e56-7c38-4009-8cf1-18879dd8bba2",
   "metadata": {},
   "outputs": [],
   "source": [
    "# Create and fit the modeling pipeline\n",
    "pipeline = Pipeline([\n",
    "    ('preprocessor', preprocessor),\n",
    "    ('feature_selection', SelectKBest(score_func=f_classif)),\n",
    "    ('classifier', DecisionTreeClassifier(random_state=42))\n",
    "])"
   ]
  },
  {
   "cell_type": "code",
   "execution_count": 6,
   "id": "c5097fcf-5b82-4906-b5c5-e7091cceed21",
   "metadata": {},
   "outputs": [],
   "source": [
    "# Define parameter grid for RandomizedSearchCV\n",
    "param_grid = {\n",
    "    'feature_selection__k': [10, 15],\n",
    "    'classifier__max_depth': [None, 5, 10, 15],\n",
    "    'classifier__min_samples_split': [2, 5, 10, 20],\n",
    "    'classifier__min_samples_leaf': [1, 5, 10],\n",
    "    'classifier__ccp_alpha': [0.0, 0.01, 0.1]\n",
    "}"
   ]
  },
  {
   "cell_type": "code",
   "execution_count": 7,
   "id": "f2cf1eeb-fbfc-4891-a0a1-8b2c1b65bb80",
   "metadata": {},
   "outputs": [
    {
     "name": "stdout",
     "output_type": "stream",
     "text": [
      "Best parameters: {'feature_selection__k': 15, 'classifier__min_samples_split': 10, 'classifier__min_samples_leaf': 1, 'classifier__max_depth': 15, 'classifier__ccp_alpha': 0.0}\n",
      "Best cross-validated score: 0.9997138914133764\n"
     ]
    }
   ],
   "source": [
    "# Perform RandomizedSearchCV\n",
    "random_search = RandomizedSearchCV(estimator=pipeline, param_distributions=param_grid, n_iter=10, cv=2, scoring='accuracy', n_jobs=-1, random_state=42)\n",
    "random_search.fit(X_train, y_train)\n",
    "print(\"Best parameters:\", random_search.best_params_)\n",
    "print(\"Best cross-validated score:\", random_search.best_score_)"
   ]
  },
  {
   "cell_type": "code",
   "execution_count": 8,
   "id": "c0236d3d-6290-483a-9037-4cf7d60b1d79",
   "metadata": {},
   "outputs": [
    {
     "name": "stdout",
     "output_type": "stream",
     "text": [
      "Confusion Matrix:\n",
      " [[11094     1]\n",
      " [    0  3760]]\n",
      "Test Accuracy: 0.9999326825984517\n"
     ]
    }
   ],
   "source": [
    "# Evaluate the best model\n",
    "best_model = random_search.best_estimator_\n",
    "y_pred = best_model.predict(X_test)\n",
    "print(\"Confusion Matrix:\\n\", confusion_matrix(y_test, y_pred))\n",
    "print(\"Test Accuracy:\", accuracy_score(y_test, y_pred))"
   ]
  },
  {
   "cell_type": "code",
   "execution_count": 32,
   "id": "821d0a0f-7ff4-4501-9b94-098288d7d9e9",
   "metadata": {},
   "outputs": [
    {
     "name": "stdout",
     "output_type": "stream",
     "text": [
      "Important features: ['Energy_diesel', 'Energy_electric', 'Energy_hybrid diesel', 'Energy_hybrid petrol', 'Energy_petrol', 'Fuel_mode_E', 'Fuel_mode_M', 'Fuel_mode_P', 0, 1, 2, 3, 4, 5, 6]\n"
     ]
    }
   ],
   "source": [
    "# Extract important features from the best model\n",
    "def get_feature_names(column_transformer):\n",
    "    output_features = []\n",
    "    for name, transformer, features in column_transformer.transformers_:\n",
    "        if name == 'remainder':\n",
    "            output_features.extend(features)\n",
    "        else:\n",
    "            if hasattr(transformer, 'get_feature_names_out'):\n",
    "                transformer_features = transformer.get_feature_names_out(features)\n",
    "            else:\n",
    "                transformer_features = [f\"{name}_{f}\" for f in features]\n",
    "            output_features.extend(transformer_features)\n",
    "    return output_features\n",
    "\n",
    "# Get feature names\n",
    "transformed_feature_names = get_feature_names(best_model.named_steps['preprocessor'])\n",
    "selected_features_indices = best_model.named_steps['feature_selection'].get_support(indices=True)\n",
    "important_features = [transformed_feature_names[i] for i in selected_features_indices]\n",
    "print(\"Important features:\", important_features)"
   ]
  },
  {
   "cell_type": "code",
   "execution_count": 38,
   "id": "25b57b68-2de5-4264-87c9-6c1f5d90ecb1",
   "metadata": {},
   "outputs": [
    {
     "name": "stdout",
     "output_type": "stream",
     "text": [
      "Feature importances:\n",
      "                  Feature  Importance\n",
      "10                     2    0.998246\n",
      "12                     4    0.000618\n",
      "6            Fuel_mode_M    0.000458\n",
      "8                      0    0.000281\n",
      "11                     3    0.000207\n",
      "14                     6    0.000119\n",
      "9                      1    0.000052\n",
      "13                     5    0.000019\n",
      "0          Energy_diesel    0.000000\n",
      "1        Energy_electric    0.000000\n",
      "2   Energy_hybrid diesel    0.000000\n",
      "3   Energy_hybrid petrol    0.000000\n",
      "4          Energy_petrol    0.000000\n",
      "5            Fuel_mode_E    0.000000\n",
      "7            Fuel_mode_P    0.000000\n"
     ]
    }
   ],
   "source": [
    "# Extract feature importances\n",
    "importances = pd.DataFrame({\n",
    "    \"Feature\": important_features,\n",
    "    \"Importance\": best_model.named_steps['classifier'].feature_importances_\n",
    "}).sort_values(by=\"Importance\", ascending=False)\n",
    "print(\"Feature importances:\\n\", importances.head(15))"
   ]
  },
  {
   "cell_type": "code",
   "execution_count": 11,
   "id": "135e06e5-48dc-4478-83a5-8549fcff2944",
   "metadata": {
    "tags": []
   },
   "outputs": [
    {
     "name": "stdout",
     "output_type": "stream",
     "text": [
      "Classification Report for Decision Tree:\n",
      "              precision    recall  f1-score   support\n",
      "\n",
      "           0       1.00      1.00      1.00     11095\n",
      "           1       1.00      1.00      1.00      3760\n",
      "\n",
      "    accuracy                           1.00     14855\n",
      "   macro avg       1.00      1.00      1.00     14855\n",
      "weighted avg       1.00      1.00      1.00     14855\n",
      "\n"
     ]
    }
   ],
   "source": [
    "from sklearn.metrics import classification_report\n",
    "\n",
    "print(\"Classification Report for Decision Tree:\")\n",
    "report_dt = classification_report(y_test, y_pred)\n",
    "print(report_dt)"
   ]
  }
 ],
 "metadata": {
  "kernelspec": {
   "display_name": "Python 3 (ipykernel)",
   "language": "python",
   "name": "python3"
  },
  "language_info": {
   "codemirror_mode": {
    "name": "ipython",
    "version": 3
   },
   "file_extension": ".py",
   "mimetype": "text/x-python",
   "name": "python",
   "nbconvert_exporter": "python",
   "pygments_lexer": "ipython3",
   "version": "3.11.7"
  }
 },
 "nbformat": 4,
 "nbformat_minor": 5
}
