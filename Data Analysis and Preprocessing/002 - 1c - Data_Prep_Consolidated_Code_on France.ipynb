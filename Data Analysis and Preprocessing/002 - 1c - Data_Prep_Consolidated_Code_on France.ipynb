{
 "cells": [
  {
   "cell_type": "code",
   "execution_count": 70,
   "id": "5b4b58de-3b6d-44d3-bcdb-a88c659869a7",
   "metadata": {},
   "outputs": [],
   "source": [
    "import pandas as pd\n",
    "import numpy as np\n",
    "\n",
    "# Load the data\n",
    "df = pd.read_csv(\"data_FR.csv\", low_memory=False)"
   ]
  },
  {
   "cell_type": "code",
   "execution_count": 71,
   "id": "de8bee08-e3a1-46ff-9cca-df2ce74e0435",
   "metadata": {},
   "outputs": [
    {
     "name": "stdout",
     "output_type": "stream",
     "text": [
      "<class 'pandas.core.frame.DataFrame'>\n",
      "Index: 9760549 entries, 0 to 9804805\n",
      "Data columns (total 26 columns):\n",
      " #   Column                  Dtype  \n",
      "---  ------                  -----  \n",
      " 0   ID                      int64  \n",
      " 1   Country                 object \n",
      " 2   Constructor             object \n",
      " 3   Veh_type                object \n",
      " 4   Version                 object \n",
      " 5   Brand                   object \n",
      " 6   Veh_Model               object \n",
      " 7   Veh_Category            object \n",
      " 8   Kg_veh                  float64\n",
      " 9   Test_mass               float64\n",
      " 10  Enedc (g/km)            float64\n",
      " 11  CO2_wltp                float64\n",
      " 12  Wheelbase_mm            float64\n",
      " 13  Axle_width_steer_mm     float64\n",
      " 14  Axle_width_other_mm     float64\n",
      " 15  Energy                  object \n",
      " 16  Fuel_mode               object \n",
      " 17  Engine_cm3              float64\n",
      " 18  Power_KW                float64\n",
      " 19  El_Consumpt_whkm        float64\n",
      " 20  Ernedc (g/km)           float64\n",
      " 21  Erwltp (g/km)           float64\n",
      " 22  year                    int64  \n",
      " 23  Fuel consumption        float64\n",
      " 24  Electric range (km)     float64\n",
      " 25  Eco-innovation program  int64  \n",
      "dtypes: float64(14), int64(3), object(9)\n",
      "memory usage: 2.0+ GB\n",
      "None\n"
     ]
    }
   ],
   "source": [
    "# Rename columns to more meaningful names\n",
    "rename_dict = {\n",
    "    'Mk': 'Brand', 'Mp': 'Constructor', 'Mt': 'Test_mass', 'Ft': 'Energy', 'Fm': 'Fuel_mode',\n",
    "    'm (kg)': 'Kg_veh', 'ec (cm3)': 'Engine_cm3', 'ep (KW)': 'Power_KW', 'z (Wh/km)': 'El_Consumpt_whkm',\n",
    "    'Ewltp (g/km)': 'CO2_wltp', 'W (mm)': 'Wheelbase_mm', 'At1 (mm)': 'Axle_width_steer_mm', \n",
    "    'At2 (mm)': 'Axle_width_other_mm', 'T': 'Veh_type', 'Ve': 'Version', 'Cn': 'Veh_Model', 'Cr': 'Veh_Category','Fuel consumption ': 'Fuel consumption' \n",
    "}\n",
    "df.rename(columns=rename_dict, inplace=True)\n",
    "\n",
    "#Creating Eco-innovation column\n",
    "# Create the 'Eco-innovation program' column based on 'IT' column's NaN status\n",
    "df['Eco-innovation program'] = df['IT'].notna().astype(int)\n",
    "\n",
    "# Dropping unnecessary columns\n",
    "columns_to_drop = ['Man', 'Tan', 'r', 'Date of registration', 'Status', 'VFN', 'Va', 'Ct', 'IT', 'De', 'Vf','Mh', 'MMS']\n",
    "df.drop(columns=columns_to_drop, inplace=True)\n",
    "\n",
    "# Consolidating fuel types into simpler categories and converting text to lowercase\n",
    "fuel_type_mapping = {\n",
    "    'diesel/electric': 'hybrid diesel', 'petrol/electric': 'hybrid petrol', 'electric': 'electric',\n",
    "    'diesel': 'diesel', 'petrol': 'petrol', 'lpg': 'lpg', 'ng': 'natural gas', 'hydrogen': 'hydrogen'\n",
    "}\n",
    "\n",
    "### filling NaNs\n",
    "# Map and standardize the 'Energy' values, fill unmatched as 'Other' temporarily\n",
    "df['Energy'] = df['Energy'].str.lower().map(fuel_type_mapping)\n",
    "\n",
    "# Attempt to fill NaN values based on the group mode of 'Veh_Model' and 'Version'\n",
    "df['Energy'] = df.groupby(['Veh_Model', 'Version'])['Energy'].transform(lambda x: x.fillna(x.mode().iloc[0] if not x.mode().empty else np.nan))\n",
    "\n",
    "\n",
    "# Drop any rows that still have NaN values in the 'Energy' column\n",
    "df.dropna(subset=['Energy'], inplace=True)\n",
    "\n",
    "# print the DataFrame to confirm changes\n",
    "print(df.info())"
   ]
  },
  {
   "cell_type": "code",
   "execution_count": 72,
   "id": "b3aeca5f-c8ea-4dbe-9155-7c04634cb246",
   "metadata": {
    "tags": []
   },
   "outputs": [],
   "source": [
    "## aligning formating for Brnad and Constructor\n",
    "# More cleanup and type conversions\n",
    "df['Brand'] = df['Brand'].str.upper().str.strip()\n",
    "df['Constructor'] = df['Constructor'].str.upper().str.strip()"
   ]
  },
  {
   "cell_type": "code",
   "execution_count": 73,
   "id": "8a370314-95bb-41bb-a72b-57464939c799",
   "metadata": {
    "tags": []
   },
   "outputs": [
    {
     "name": "stdout",
     "output_type": "stream",
     "text": [
      "['NISSAN', 'VOLVO', 'TOYOTA', 'MG', 'RENAULT', 'LAND ROVER', 'LYNK&CO', 'DACIA', 'MASERATI', 'FERRARI', 'JAGUAR', 'SUBARU', 'PEUGEOT', 'LEXUS', 'TESLA', 'INFINITI', 'SSANGYONG', 'VOLKSWAGEN', 'CITROEN', 'LOTUS', 'DFSK', 'CATERHAM', 'FIAT', 'LAMBORGHINI', 'ASTON MARTIN', 'AIWAYS', 'SECMA', 'BENTLEY', 'MORGAN', 'KIA', 'MERCEDES BENZ', 'CHEVROLET', 'AUDI', 'SUZUKI', 'MPM MOTORS', 'BLUECAR', 'HYUNDAI', 'FORD', 'MC LAREN', 'ALPINA', 'CADILLAC', 'BMW', 'SEAT', 'MOBILIZE', 'SKODA', 'MAZDA', 'PORSCHE', 'DS', 'HONDA', 'PGO']\n"
     ]
    }
   ],
   "source": [
    "#Treating Constructor NaNs Mapping from the Brand\n",
    "# Count the occurrences of NaN 'Constructor' values by 'Brand'\n",
    "nan_constructors = df[df['Constructor'].isna()]\n",
    "nan_counts_by_brand = nan_constructors['Brand'].value_counts().nlargest(50)\n",
    "\n",
    "# Get the list of brands with the top 30 highest NaN counts\n",
    "top_nan_brands = nan_counts_by_brand.index.tolist()\n",
    "\n",
    "print(top_nan_brands)\n",
    "\n",
    "brands_list = ['NISSAN', 'VOLVO', 'TOYOTA', 'MG', 'RENAULT', 'LAND ROVER', 'LYNK&CO', 'DACIA', 'MASERATI', 'FERRARI', 'JAGUAR', 'SUBARU', 'PEUGEOT', 'LEXUS', 'TESLA', 'INFINITI', 'SSANGYONG', 'VOLKSWAGEN', 'CITROEN', 'LOTUS', 'DFSK', 'CATERHAM', 'FIAT', 'LAMBORGHINI', 'ASTON MARTIN', 'AIWAYS', 'SECMA', 'BENTLEY', 'MORGAN', 'KIA', 'MERCEDES BENZ', 'CHEVROLET', 'AUDI', 'SUZUKI', 'MPM MOTORS', 'BLUECAR', 'HYUNDAI', 'FORD', 'MC LAREN', 'ALPINA', 'CADILLAC', 'BMW', 'SEAT', 'MOBILIZE', 'SKODA', 'MAZDA', 'PORSCHE', 'DS', 'HONDA', 'PGO']\n",
    "\n",
    "# Initialize an empty dictionary to store the mappings\n",
    "brand_to_constructor = {}\n",
    "\n",
    "# Loop through each brand in the list\n",
    "for brand in brands_list:\n",
    "    # Filter df_Ptred for the current brand where 'Constructor' is not NaN\n",
    "    filtered_df = df[(df['Brand'] == brand) & df['Constructor'].notna()]\n",
    "    \n",
    "    # Check if there are any non-NaN 'Constructor' values\n",
    "    if not filtered_df.empty:\n",
    "        # Find the most common 'Constructor' value for this brand\n",
    "        most_common_constructor = filtered_df['Constructor'].mode()[0]\n",
    "        brand_to_constructor[brand] = most_common_constructor\n",
    "    else:\n",
    "        # If no non-NaN 'Constructor' values are found, map the brand to None or some default\n",
    "        brand_to_constructor[brand] = None\n",
    "\n",
    "# Output the resulting dictionary\n",
    "#print(brand_to_constructor)\n",
    "\n",
    "# First, create a mapping series from the brand to constructor\n",
    "brand_constructor_mapping = pd.Series(brand_to_constructor)\n",
    "\n",
    "# Use 'map' to create a Series of constructors mapped from the 'Brand' column\n",
    "mapped_constructors = df['Brand'].map(brand_constructor_mapping)\n",
    "\n",
    "# Now fill NaN values in the 'Constructor' column using this mapped Series\n",
    "df['Constructor'] = df['Constructor'].fillna(mapped_constructors)\n",
    "\n",
    "# After attempting to fill with mapped constructors, fill remaining NaNs with the 'Brand' name\n",
    "df['Constructor'] = df['Constructor'].fillna(df['Brand'])\n",
    "\n",
    "# If you want to double-check or see the changes, you can display the DataFrame\n",
    "\n",
    "#df.info()"
   ]
  },
  {
   "cell_type": "code",
   "execution_count": 74,
   "id": "bb1c79c2-047c-480e-bf27-548cd53ca73c",
   "metadata": {
    "tags": []
   },
   "outputs": [
    {
     "name": "stdout",
     "output_type": "stream",
     "text": [
      "Test_mass              42313\n",
      "Wheelbase_mm              17\n",
      "Axle_width_steer_mm        0\n",
      "Axle_width_other_mm        0\n",
      "dtype: int64\n",
      "After cleaning:\n",
      "Test_mass              0\n",
      "Wheelbase_mm           0\n",
      "Axle_width_steer_mm    0\n",
      "Axle_width_other_mm    0\n",
      "dtype: int64\n"
     ]
    }
   ],
   "source": [
    "### NAN Processing for mass and width\n",
    "# List of columns to fill NaN values with mean\n",
    "columns_to_fill = ['Test_mass', 'Wheelbase_mm', 'Axle_width_steer_mm', 'Axle_width_other_mm']\n",
    "\n",
    "# Grouping criteria\n",
    "grouping_columns = ['Veh_Model']\n",
    "\n",
    "# Applying the transformation\n",
    "for column in columns_to_fill:\n",
    "    # Compute the mean for each group and fill NaN values in the column\n",
    "    df[column] = df.groupby(grouping_columns)[column].transform(lambda x: x.fillna(x.mean()))\n",
    "\n",
    "# Check the results to ensure NaN values are filled\n",
    "print(df[columns_to_fill].isna().sum())\n",
    "\n",
    "# Remove rows that still contain NaN values in any of the four specified columns\n",
    "df.dropna(subset=columns_to_fill, inplace=True)\n",
    "\n",
    "# Verify the operation by checking for NaN values again\n",
    "print(\"After cleaning:\")\n",
    "print(df[columns_to_fill].isna().sum())"
   ]
  },
  {
   "cell_type": "code",
   "execution_count": 75,
   "id": "76c0400b-8ced-4cdd-8419-60a89090b8d1",
   "metadata": {
    "tags": []
   },
   "outputs": [
    {
     "name": "stdout",
     "output_type": "stream",
     "text": [
      "Index(['ID', 'Country', 'Constructor', 'Veh_type', 'Version', 'Brand',\n",
      "       'Veh_Model', 'Veh_Category', 'Kg_veh', 'Test_mass', 'Enedc (g/km)',\n",
      "       'CO2_wltp', 'Wheelbase_mm', 'Axle_width_steer_mm',\n",
      "       'Axle_width_other_mm', 'Energy', 'Fuel_mode', 'Engine_cm3', 'Power_KW',\n",
      "       'El_Consumpt_whkm', 'Ernedc (g/km)', 'Erwltp (g/km)', 'year',\n",
      "       'Fuel consumption', 'Electric range (km)', 'Eco-innovation program'],\n",
      "      dtype='object')\n"
     ]
    }
   ],
   "source": [
    "print(df.columns)  # This will show all column names"
   ]
  },
  {
   "cell_type": "code",
   "execution_count": 76,
   "id": "173120d3-b064-4127-b646-f5d50e41b9e6",
   "metadata": {
    "tags": []
   },
   "outputs": [
    {
     "name": "stdout",
     "output_type": "stream",
     "text": [
      "CO2_wltp               22015\n",
      "Power_KW               24651\n",
      "El_Consumpt_whkm        3226\n",
      "Fuel consumption       18286\n",
      "Electric range (km)     4352\n",
      "Erwltp (g/km)              0\n",
      "Engine_cm3                 0\n",
      "dtype: int64\n"
     ]
    }
   ],
   "source": [
    "#NaN treatment 'Power_KW', 'El_Consumpt_whkm', 'Fuel consumption', 'Electric range (km)', 'Elect_Consumption', 'Erwltp (g/km) \n",
    "## averaging based on model\n",
    "\n",
    "# Define grouping criteria\n",
    "grouping_columns = ['Veh_Model', 'Version']\n",
    "grouping_columns2 = ['Brand', 'Veh_type','Energy']\n",
    "grouping_columns3 = ['Energy']\n",
    "grouping_columns4 = ['Veh_type','Energy']\n",
    "grouping_columns5 = ['Brand', 'Version']\n",
    "grouping_columns6 = ['Veh_Model', 'Energy']\n",
    "grouping_columns7 = ['Brand','Veh_type']\n",
    "\n",
    "\n",
    "# Treat NaNs for 'Power_KW'\n",
    "df['Power_KW'] = np.where(df['Energy'].isin(['diesel', 'petrol', 'lpg']),\n",
    "                          df['Power_KW'].fillna(0),  # Fill NaN with 0 for 'diesel', 'petrol', 'lpg'\n",
    "                          df.groupby(grouping_columns6)['Power_KW'].transform(lambda x: x.fillna(x.mean())))\n",
    "                          # For other energy types, fill NaN with the mean of their group\n",
    "\n",
    "\n",
    "# Treat NaNs for 'El_Consumpt_whkm'\n",
    "df['El_Consumpt_whkm'] = np.where(df['Energy'].isin(['diesel', 'petrol', 'lpg']),\n",
    "                                        df['El_Consumpt_whkm'].fillna(0),\n",
    "                                        df.groupby(grouping_columns6)['El_Consumpt_whkm'].transform(lambda x: x.fillna(x.mean())))\n",
    "\n",
    "# Treat NaNs for 'Fuel consumption'\n",
    "df['Fuel consumption'] = np.where(df['Energy'] == 'electric',\n",
    "                                        df['Fuel consumption'].fillna(0),\n",
    "                                        df.groupby('Brand')['Fuel consumption'].transform(lambda x: x.fillna(x.mean())))\n",
    "\n",
    "# Treat NaNs for 'Electric range (km)'\n",
    "df['Electric range (km)'] = np.where(df['Energy'].isin(['diesel', 'petrol', 'lpg']),\n",
    "                                          df['Electric range (km)'].fillna(0),\n",
    "                                          df.groupby(grouping_columns4)['Electric range (km)'].transform(lambda x: x.fillna(x.mean())))\n",
    "\n",
    "\n",
    "# Treat NaNs for 'CO2_wlpt'\n",
    "df['CO2_wltp'] = np.where(df['Energy'] == 'electric',\n",
    "                                        df['CO2_wltp'].fillna(0),\n",
    "                                        df.groupby(grouping_columns6)['CO2_wltp'].transform(lambda x: x.fillna(x.mean())))\n",
    "\n",
    "# Treat NaNs for 'Erwltp (g/km)'\n",
    "df['Erwltp (g/km)'] = df['Erwltp (g/km)'].fillna(0)\n",
    "\n",
    "# Treat NaNs for 'Engine_cm3'\n",
    "df['Engine_cm3'] = df['Engine_cm3'].fillna(0)\n",
    "\n",
    "# Check the results\n",
    "print(df[['CO2_wltp','Power_KW', 'El_Consumpt_whkm', 'Fuel consumption', 'Electric range (km)', 'Erwltp (g/km)' , 'Engine_cm3']].isna().sum())"
   ]
  },
  {
   "cell_type": "code",
   "execution_count": 77,
   "id": "107c8c81-0154-4c18-94f3-18a0894d30b5",
   "metadata": {
    "tags": []
   },
   "outputs": [],
   "source": [
    "# Check if any NaNs remain and remove rows where any of these columns still have NaN\n",
    "df.dropna(subset=['CO2_wltp', 'Power_KW', 'El_Consumpt_whkm', 'Fuel consumption', 'Electric range (km)', 'Erwltp (g/km)', 'Engine_cm3'], inplace=True)\n",
    "\n",
    "# Verify that no NaN values are left in the specified columns\n",
    "\n"
   ]
  },
  {
   "cell_type": "code",
   "execution_count": 78,
   "id": "6aeb86b4-9e3a-4719-97be-6403d5b876d0",
   "metadata": {
    "tags": []
   },
   "outputs": [
    {
     "name": "stdout",
     "output_type": "stream",
     "text": [
      "<class 'pandas.core.frame.DataFrame'>\n",
      "Index: 9648815 entries, 0 to 9804805\n",
      "Data columns (total 23 columns):\n",
      " #   Column                  Dtype  \n",
      "---  ------                  -----  \n",
      " 0   Country                 object \n",
      " 1   Constructor             object \n",
      " 2   Veh_type                object \n",
      " 3   Version                 object \n",
      " 4   Brand                   object \n",
      " 5   Veh_Model               object \n",
      " 6   Veh_Category            object \n",
      " 7   Kg_veh                  float64\n",
      " 8   Test_mass               float64\n",
      " 9   CO2_wltp                float64\n",
      " 10  Wheelbase_mm            float64\n",
      " 11  Axle_width_steer_mm     float64\n",
      " 12  Axle_width_other_mm     float64\n",
      " 13  Energy                  object \n",
      " 14  Fuel_mode               object \n",
      " 15  Engine_cm3              float64\n",
      " 16  Power_KW                float64\n",
      " 17  El_Consumpt_whkm        float64\n",
      " 18  Erwltp (g/km)           float64\n",
      " 19  year                    int64  \n",
      " 20  Fuel consumption        float64\n",
      " 21  Electric range (km)     float64\n",
      " 22  Eco-innovation program  int64  \n",
      "dtypes: float64(12), int64(2), object(9)\n",
      "memory usage: 1.7+ GB\n"
     ]
    }
   ],
   "source": [
    "# Remove the specified columns\n",
    "df.drop(columns=['Enedc (g/km)', 'Ernedc (g/km)','ID'], inplace=True)\n",
    "\n",
    "# Remove rows with any NaN values\n",
    "df.dropna(inplace=True)\n",
    "\n",
    "# Optional: Check the result to ensure all NaN values are gone and columns are removed\n",
    "df.info()"
   ]
  },
  {
   "cell_type": "code",
   "execution_count": 79,
   "id": "541112c2-2517-455e-b043-877b198f08ab",
   "metadata": {},
   "outputs": [
    {
     "name": "stdout",
     "output_type": "stream",
     "text": [
      "Brand\n",
      "RENAULT          1789729\n",
      "PEUGEOT          1715831\n",
      "CITROEN           972554\n",
      "DACIA             666008\n",
      "VOLKSWAGEN        603596\n",
      "TOYOTA            503652\n",
      "FORD              270264\n",
      "FIAT              268888\n",
      "OPEL              265710\n",
      "AUDI              254064\n",
      "BMW               243979\n",
      "KIA               228933\n",
      "HYUNDAI           222688\n",
      "NISSAN            195036\n",
      "SKODA             162034\n",
      "MERCEDES-BENZ     155508\n",
      "SEAT              142822\n",
      "MERCEDES BENZ     133952\n",
      "SUZUKI            121244\n",
      "DS                117040\n",
      "MINI              115117\n",
      "VOLVO              87412\n",
      "TESLA              71626\n",
      "JEEP               53137\n",
      "MAZDA              51086\n",
      "LAND ROVER         33786\n",
      "HONDA              32237\n",
      "LEXUS              27039\n",
      "PORSCHE            23312\n",
      "MITSUBISHI         20399\n",
      "MG                 18820\n",
      "ALFA ROMEO         17718\n",
      "JAGUAR             12676\n",
      "CUPRA              12279\n",
      "Name: count, dtype: int64\n",
      "Constructor\n",
      "PSA-OPEL                         2035991\n",
      "RENAULT-NISSAN-MITSUBISHI        1488542\n",
      "RENAULT                          1171171\n",
      "STELLANTIS                       1133851\n",
      "VW GROUP PC                       549660\n",
      "VW-SAIC                           463683\n",
      "TOYOTA-MAZDA                      392158\n",
      "MAZDA-SUBARU-SUZUKI-TOYOTA        229567\n",
      "KIA                               228933\n",
      "VOLKSWAGEN                        203584\n",
      "BMW                               193536\n",
      "HYUNDAI                           170979\n",
      "BMW GROUP                         165560\n",
      "FORD-WERKE GMBH                   155979\n",
      "MERCEDES-BENZ                     155518\n",
      "FORD-VOLVO                        144429\n",
      "DAIMLER AG                        133942\n",
      "FCA ITALY SPA                      99194\n",
      "FCA-TESLA                          95813\n",
      "FCA                                66431\n",
      "SUZUKI POOL                        59911\n",
      "FORD                               57268\n",
      "HYUNDAI MOTOR EUROPE               51709\n",
      "TESLA-HONDA-JLR                    42106\n",
      "TESLA                              40312\n",
      "TATA MOTORS JAGUAR LAND ROVER      32207\n",
      "SUZUKI                             21385\n",
      "HONDA MOTOR EUROPE LTD             15298\n",
      "MITSUBISHI MOTORS                  11459\n",
      "Name: count, dtype: int64\n"
     ]
    }
   ],
   "source": [
    "### removing brands and manufacturers wiht less than 0.1% share\n",
    "def filter_by_frequency(df, column_name, threshold_pct=0.1):\n",
    "    \"\"\" Filters the DataFrame by the frequency of occurrences in the specified column.\n",
    "    \n",
    "    Parameters:\n",
    "        df (DataFrame): The DataFrame to filter.\n",
    "        column_name (str): The column to calculate the frequency.\n",
    "        threshold_pct (float): The percentage threshold to use for filtering (default is 0.1).\n",
    "        \n",
    "    Returns:\n",
    "        DataFrame: A filtered DataFrame.\n",
    "    \"\"\"\n",
    "    total_entries = len(df)\n",
    "    threshold = (threshold_pct / 100) * total_entries\n",
    "    value_counts = df[column_name].value_counts()\n",
    "    valid_values = value_counts[value_counts >= threshold].index\n",
    "    return df[df[column_name].isin(valid_values)]\n",
    "\n",
    "# Apply the function to both 'Brand' and 'Constructor'\n",
    "df = filter_by_frequency(df, 'Brand')\n",
    "df = filter_by_frequency(df, 'Constructor')\n",
    "\n",
    "# Optionally, check the result\n",
    "print(df['Brand'].value_counts())\n",
    "print(df['Constructor'].value_counts())"
   ]
  },
  {
   "cell_type": "code",
   "execution_count": 80,
   "id": "b3e77dc1-0d48-4e5b-9a06-34499c04a253",
   "metadata": {
    "tags": []
   },
   "outputs": [
    {
     "name": "stdout",
     "output_type": "stream",
     "text": [
      "                        NaN Count  NaN Percentage\n",
      "Country                         0             0.0\n",
      "Constructor                     0             0.0\n",
      "Veh_type                        0             0.0\n",
      "Version                         0             0.0\n",
      "Brand                           0             0.0\n",
      "Veh_Model                       0             0.0\n",
      "Veh_Category                    0             0.0\n",
      "Kg_veh                          0             0.0\n",
      "Test_mass                       0             0.0\n",
      "CO2_wltp                        0             0.0\n",
      "Wheelbase_mm                    0             0.0\n",
      "Axle_width_steer_mm             0             0.0\n",
      "Axle_width_other_mm             0             0.0\n",
      "Energy                          0             0.0\n",
      "Fuel_mode                       0             0.0\n",
      "Engine_cm3                      0             0.0\n",
      "Power_KW                        0             0.0\n",
      "El_Consumpt_whkm                0             0.0\n",
      "Erwltp (g/km)                   0             0.0\n",
      "year                            0             0.0\n",
      "Fuel consumption                0             0.0\n",
      "Electric range (km)             0             0.0\n",
      "Eco-innovation program          0             0.0\n"
     ]
    }
   ],
   "source": [
    "# NaN status\n",
    "# Calculate NaN counts and percentages for each column\n",
    "nan_counts = df.isna().sum()\n",
    "nan_percentages = (df.isna().sum() / len(df)) * 100\n",
    "\n",
    "# Create a DataFrame to display the NaN information in a tidy format\n",
    "nan_df = pd.DataFrame({\n",
    "    'NaN Count': nan_counts,\n",
    "    'NaN Percentage': nan_percentages\n",
    "})\n",
    "\n",
    "# Print the DataFrame\n",
    "print(nan_df)"
   ]
  },
  {
   "cell_type": "code",
   "execution_count": 81,
   "id": "8a9ab84b-1066-4d5a-9aa4-b14cbd294d9a",
   "metadata": {
    "tags": []
   },
   "outputs": [],
   "source": [
    "# adding new Emmissions on target column 1 - on target 0 over target\n",
    "df['Em_on_target'] = (df['CO2_wltp'] <= 95).astype(int)"
   ]
  },
  {
   "cell_type": "code",
   "execution_count": 82,
   "id": "181d4b50-7ed4-48e7-be71-ed9a8f7a47a9",
   "metadata": {
    "tags": []
   },
   "outputs": [
    {
     "name": "stdout",
     "output_type": "stream",
     "text": [
      "<class 'pandas.core.frame.DataFrame'>\n",
      "Index: 9610176 entries, 0 to 9804805\n",
      "Data columns (total 24 columns):\n",
      " #   Column                  Dtype  \n",
      "---  ------                  -----  \n",
      " 0   Country                 object \n",
      " 1   Constructor             object \n",
      " 2   Veh_type                object \n",
      " 3   Version                 object \n",
      " 4   Brand                   object \n",
      " 5   Veh_Model               object \n",
      " 6   Veh_Category            object \n",
      " 7   Kg_veh                  float64\n",
      " 8   Test_mass               float64\n",
      " 9   CO2_wltp                float64\n",
      " 10  Wheelbase_mm            float64\n",
      " 11  Axle_width_steer_mm     float64\n",
      " 12  Axle_width_other_mm     float64\n",
      " 13  Energy                  object \n",
      " 14  Fuel_mode               object \n",
      " 15  Engine_cm3              float64\n",
      " 16  Power_KW                float64\n",
      " 17  El_Consumpt_whkm        float64\n",
      " 18  Erwltp (g/km)           float64\n",
      " 19  year                    int64  \n",
      " 20  Fuel consumption        float64\n",
      " 21  Electric range (km)     float64\n",
      " 22  Eco-innovation program  int64  \n",
      " 23  Em_on_target            int64  \n",
      "dtypes: float64(12), int64(3), object(9)\n",
      "memory usage: 1.8+ GB\n"
     ]
    }
   ],
   "source": [
    "df.info()"
   ]
  },
  {
   "cell_type": "code",
   "execution_count": 83,
   "id": "cc0403ff-b801-4a49-b1ee-3e0abd2505ff",
   "metadata": {
    "tags": []
   },
   "outputs": [],
   "source": [
    "df.to_csv('FR_Cleaned.csv')"
   ]
  },
  {
   "cell_type": "code",
   "execution_count": null,
   "id": "df00d2de-911b-4ae0-bb9f-50e87ea809ae",
   "metadata": {},
   "outputs": [],
   "source": []
  }
 ],
 "metadata": {
  "kernelspec": {
   "display_name": "Python 3 (ipykernel)",
   "language": "python",
   "name": "python3"
  },
  "language_info": {
   "codemirror_mode": {
    "name": "ipython",
    "version": 3
   },
   "file_extension": ".py",
   "mimetype": "text/x-python",
   "name": "python",
   "nbconvert_exporter": "python",
   "pygments_lexer": "ipython3",
   "version": "3.11.7"
  }
 },
 "nbformat": 4,
 "nbformat_minor": 5
}
