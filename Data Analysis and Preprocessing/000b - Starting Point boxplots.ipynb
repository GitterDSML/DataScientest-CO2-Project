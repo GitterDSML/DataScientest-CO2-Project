{
 "cells": [
  {
   "cell_type": "code",
   "execution_count": 1,
   "id": "1352fcf8-8b00-4214-8d00-06899d1f19ff",
   "metadata": {
    "tags": []
   },
   "outputs": [],
   "source": [
    "#pip install nbconvert"
   ]
  },
  {
   "cell_type": "code",
   "execution_count": 2,
   "id": "1c46d6c9-bd41-41a0-a702-7a61a971cf4b",
   "metadata": {
    "tags": []
   },
   "outputs": [],
   "source": [
    "#############################################################\n",
    "####   CO2 emissions project first data analysis \n",
    "####     Complementary analysis \n",
    "####            BOXPLOTs Presentations\n",
    "#############################################################\n",
    "\n",
    "# Please, not you will need to run first the Starting point File. \n",
    "\n",
    "%run \"000 - CO2 Starting Point.ipynb\"  \n"
   ]
  },
  {
   "cell_type": "code",
   "execution_count": null,
   "id": "7cd25601-3cfd-43e9-8f8d-b1f3b299a2de",
   "metadata": {
    "tags": []
   },
   "outputs": [],
   "source": []
  },
  {
   "cell_type": "code",
   "execution_count": 3,
   "id": "9b8ea5d9-9a4d-479a-ad56-020e16331867",
   "metadata": {
    "tags": []
   },
   "outputs": [
    {
     "ename": "NameError",
     "evalue": "name 'df_Ptred' is not defined",
     "output_type": "error",
     "traceback": [
      "\u001b[1;31m---------------------------------------------------------------------------\u001b[0m",
      "\u001b[1;31mNameError\u001b[0m                                 Traceback (most recent call last)",
      "Cell \u001b[1;32mIn[3], line 4\u001b[0m\n\u001b[0;32m      1\u001b[0m \u001b[38;5;66;03m# Review the distribution of  WLTP and NDEC CO2 indicators\u001b[39;00m\n\u001b[0;32m      2\u001b[0m \u001b[38;5;66;03m# Prepare the data for the violin plot\u001b[39;00m\n\u001b[0;32m      3\u001b[0m \u001b[38;5;66;03m# Melt the DataFrame to long-format for seaborn compatibility\u001b[39;00m\n\u001b[1;32m----> 4\u001b[0m melted_df \u001b[38;5;241m=\u001b[39m df_Ptred\u001b[38;5;241m.\u001b[39mmelt(value_vars\u001b[38;5;241m=\u001b[39m[\u001b[38;5;124m'\u001b[39m\u001b[38;5;124mCO2_wltp\u001b[39m\u001b[38;5;124m'\u001b[39m, \u001b[38;5;124m'\u001b[39m\u001b[38;5;124mEnedc (g/km)\u001b[39m\u001b[38;5;124m'\u001b[39m], var_name\u001b[38;5;241m=\u001b[39m\u001b[38;5;124m'\u001b[39m\u001b[38;5;124mMetric\u001b[39m\u001b[38;5;124m'\u001b[39m, value_name\u001b[38;5;241m=\u001b[39m\u001b[38;5;124m'\u001b[39m\u001b[38;5;124mValue\u001b[39m\u001b[38;5;124m'\u001b[39m)\n\u001b[0;32m      6\u001b[0m \u001b[38;5;66;03m# Create the violin plot\u001b[39;00m\n\u001b[0;32m      7\u001b[0m plt\u001b[38;5;241m.\u001b[39mfigure(figsize\u001b[38;5;241m=\u001b[39m(\u001b[38;5;241m6\u001b[39m, \u001b[38;5;241m15\u001b[39m))\n",
      "\u001b[1;31mNameError\u001b[0m: name 'df_Ptred' is not defined"
     ]
    }
   ],
   "source": [
    "# Review the distribution of  WLTP and NDEC CO2 indicators\n",
    "# Prepare the data for the violin plot\n",
    "# Melt the DataFrame to long-format for seaborn compatibility\n",
    "melted_df = df_Ptred.melt(value_vars=['CO2_wltp', 'Enedc (g/km)'], var_name='Metric', value_name='Value')\n",
    "\n",
    "# Create the violin plot\n",
    "plt.figure(figsize=(6, 15))\n",
    "violin = sns.violinplot(x='Metric', y='Value', data=melted_df, split=True, inner=None, palette='muted')\n",
    "\n",
    "# Calculate and annotate metrics for each distribution\n",
    "for i, metric in enumerate(['CO2_wltp', 'Enedc (g/km)']):\n",
    "    # Extract the data for the current metric\n",
    "    data = df_Ptred[metric].dropna()\n",
    "    \n",
    "    # Calculate metrics\n",
    "    mean = data.mean()\n",
    "    median = data.median()\n",
    "    q1 = data.quantile(0.25)\n",
    "    q3 = data.quantile(0.75)\n",
    "    \n",
    "    # Annotate the violin plot with these metrics\n",
    "    plt.text(i, data.min(), f'Min: {data.min():.2f}', ha='center')\n",
    "    plt.text(i, q1, f'Q1: {q1:.2f}', ha='center')\n",
    "    plt.text(i, median, f'Median: {median:.2f}', ha='center')\n",
    "    plt.text(i, q3, f'Q3: {q3:.2f}', ha='center')\n",
    "    plt.text(i, data.max(), f'Max: {data.max():.2f}', ha='center')\n",
    "    plt.text(i, mean, f'Mean: {mean:.2f}', va='center', ha='center', color='white')\n",
    "\n",
    "# Finalize the plot\n",
    "plt.title('Distribution Comparison of CO2_wltp and Enedc (g/km)')\n",
    "plt.ylabel('Values')\n",
    "plt.xticks(np.arange(2), ['CO2_wltp', 'Enedc (g/km)'])\n",
    "\n",
    "plt.show()"
   ]
  },
  {
   "cell_type": "code",
   "execution_count": null,
   "id": "113f167f-da77-4d6f-8b46-4d147e7049de",
   "metadata": {
    "tags": []
   },
   "outputs": [],
   "source": [
    "## Creating new df without NDEC column, removing new columns\n",
    "df_ptwltp = df_Ptred.drop(['Enedc (g/km)', 'CO2_combined', 'WLTP_1_NEDC_0'], axis = 1)\n",
    "\n",
    "#Removing all NaN values in 'CO2_wltp'\n",
    "df_ptwltp.dropna(axis=0, subset=['CO2_wltp'], inplace=True)\n",
    "\n",
    "df_ptwltp.head()\n",
    "df_ptwltp.info()\n",
    "\n",
    "\n",
    "\n",
    "\n",
    "                   "
   ]
  },
  {
   "cell_type": "code",
   "execution_count": null,
   "id": "51dff06b-e539-46c4-8ac6-68757635540c",
   "metadata": {
    "tags": []
   },
   "outputs": [],
   "source": [
    "# Averaging NaNs and 0 where the NaN % is small\n",
    "variables_to_fill = ['Wheelbase_mm', 'Axle_width_steer_mm', 'Axle_width_other_mm', 'Power_KW', 'Test_mass']\n",
    "\n",
    "# Ensure 'Veh_Model' and variables are in the correct format\n",
    "df_ptwltp['Veh_Model'] = df_ptwltp['Veh_Model'].astype(str)\n",
    "\n",
    "# Loop through the variables list to fill NaN values with the mean of the specific version\n",
    "for var in variables_to_fill:\n",
    "    # Group by 'Version' and calculate mean for the variable, excluding NaN 'Version' groups\n",
    "    mean_values = df_ptwltp[df_ptwltp['Veh_Model'].notna()].groupby('Veh_Model')[var].transform('mean')\n",
    "    \n",
    "    # Fill NaN values in the variable with the corresponding mean of the 'Version'\n",
    "    df_ptwltp[var] = df_ptwltp[var].fillna(mean_values)\n",
    "\n",
    "\n",
    "\n",
    "### it has reduced NaNs a bit i will drop few 127 vehicles noe havinG Axle and Wheelbase and test mass"
   ]
  },
  {
   "cell_type": "code",
   "execution_count": null,
   "id": "21cbb0d2-5a6b-483d-b8ed-d0e8f706e808",
   "metadata": {
    "tags": []
   },
   "outputs": [],
   "source": [
    "#Removing all NaN values in 'CO2_wltp'\n",
    "df_ptwltp.dropna(axis=0, subset=['Wheelbase_mm','Test_mass','Axle_width_steer_mm','Axle_width_other_mm'], inplace=True)\n",
    "\n",
    "# Note: This approach assumes 'Version' NaNs should not be filled. If 'Version' itself has NaNs,\n",
    "# calculations and fill operations are performed only on non-NaN 'Version' rows.\n",
    "\n",
    "### checking NAN %\n",
    "total_df_ptwltp = len(df_ptwltp)\n",
    "nans_df_ptwltp = df_ptwltp.isna().sum()\n",
    "percent_nans_df_ptwltp = (df_ptwltp.isna().sum() / total_records) * 100\n",
    "nans_ptwltp_df = pd.DataFrame({'Nans': nans_df_ptwltp, 'Percentage of Total Nans (%)': percent_nans_df_ptwltp})\n",
    "\n",
    "### Erwltp (g/km) zeroing nans\n",
    "df_ptwltp['Erwltp (g/km)'] = df_ptwltp['Erwltp (g/km)'].fillna(0)\n",
    "\n",
    "# Display the results\n",
    "display(\"Nulls and their percentages:\", nans_ptwltp_df)\n",
    "\n",
    "df_ptwltp.duplicated().sum()\n"
   ]
  },
  {
   "cell_type": "code",
   "execution_count": null,
   "id": "538e557f-11a8-4b39-bb1c-5d5c673d01b5",
   "metadata": {
    "tags": []
   },
   "outputs": [],
   "source": [
    "\n",
    "\n",
    "# to view the final null and nan breakdown\n",
    "\n",
    "# List of columns to analyze for NaN breakdown by 'Ft' (fuel type)\n",
    "columns_to_analyze = ['Engine_cm3', 'Power_KW', 'El_Consumpt_whkm', 'Fuel consumption', 'Electric range (km)']\n",
    "\n",
    "# Setting up the figure for subplots\n",
    "n_rows = len(columns_to_analyze)\n",
    "fig, axs = plt.subplots(n_rows, 1, figsize=(10, 5 * n_rows))\n",
    "\n",
    "# Loop through each column and create a subplot\n",
    "for i, column in enumerate(columns_to_analyze):\n",
    "    # Calculate the percentage of NaN values for each 'Ft'\n",
    "    nan_bd_ptwltp = df_ptwltp.groupby('Energy')[column].apply(lambda x: x.isna().mean() * 100)\n",
    "    \n",
    "    # Sort the breakdown for better visualization\n",
    "    nan_bd_ptwltp_sorted = nan_bd_ptwltp.sort_values(ascending=False)\n",
    "    \n",
    "    # Plotting the breakdown\n",
    "    sns.barplot(x= nan_bd_ptwltp_sorted.values, y= nan_bd_ptwltp_sorted.index, ax=axs[i], palette=\"viridis\")\n",
    "    axs[i].set_title(f'NaN Proportion in {column} by Fuel Type')\n",
    "    axs[i].set_xlabel('Percentage of NaN Values')\n",
    "    axs[i].set_ylabel('Fuel Type')\n",
    "\n",
    "# Adjust layout to prevent overlap and ensure everything is visible\n",
    "plt.tight_layout()\n",
    "plt.show()\n",
    "\n"
   ]
  },
  {
   "cell_type": "code",
   "execution_count": null,
   "id": "43c552d9-cb4d-4b23-ba30-b94d80dde8f6",
   "metadata": {
    "scrolled": true
   },
   "outputs": [],
   "source": [
    "## Correlation matrix creation\n",
    "\n",
    "numerical_cols = ['CO2_wltp', 'Fuel consumption', 'Electric range (km)', 'Kg_veh', 'Test_mass', 'Power_KW', 'year', 'Eco-innovation program',  'Wheelbase_mm', \n",
    "                  'Axle_width_steer_mm', 'Axle_width_other_mm', 'Engine_cm3', \n",
    "                  'El_Consumpt_whkm', 'Erwltp (g/km)']\n",
    "numerical_df = df_ptwltp[numerical_cols]\n",
    "\n",
    "# Compute the correlation matrix and round to two decimal places\n",
    "corr_matrix = numerical_df.corr().round(2)\n",
    "\n",
    "# Drop any rows or columns that are all NaN, if any\n",
    "corr_matrix_cleaned = corr_matrix.dropna(axis='columns', how='all').dropna(axis='rows', how='all')\n",
    "\n",
    "display(corr_matrix_cleaned)\n",
    "\n",
    "# Initialize matplotlib figure for size, make it larger if needed\n",
    "plt.figure(figsize=(18, 12))\n",
    "\n",
    "# Set font scale for annotations\n",
    "sns.set(font_scale=1)\n",
    "\n",
    "# Generate a heatmap with annotations for all cells, rounded to two decimal places\n",
    "sns.heatmap(corr_matrix_cleaned, annot=True,  fmt=\".2f\",  cmap='coolwarm',  cbar=True, square=True)\n",
    "\n",
    "# Add titles and labels for clarity\n",
    "plt.title('Correlation Matrix of Numerical Variables')\n",
    "plt.xticks(rotation=45, ha=\"right\")\n",
    "plt.yticks(rotation=0)\n",
    "\n",
    "# Show plot\n",
    "plt.tight_layout()  # Adjust layout to fit everything nicely\n",
    "plt.show()"
   ]
  },
  {
   "cell_type": "code",
   "execution_count": null,
   "id": "a3c76ed5-ad03-4efb-8ab4-de2a1b9e8a29",
   "metadata": {},
   "outputs": [],
   "source": []
  },
  {
   "cell_type": "code",
   "execution_count": null,
   "id": "e22f4280-1237-4926-885b-806b4e4c9095",
   "metadata": {},
   "outputs": [],
   "source": [
    "\n",
    "# Object columns to analyze against the numerical one\n",
    "object_cols = ['Constructor','Brand', 'Veh_Model', 'Veh_type', 'Version', 'Energy', 'Fuel_mode']\n",
    "numeric_col = 'CO2_wltp'\n",
    "\n",
    "# Set the overall figure size to accommodate the subplots\n",
    "plt.figure(figsize=(15, 4 * len(object_cols)))\n",
    "\n",
    "for i, obj_col in enumerate(object_cols):\n",
    "    # Calculate the mean of 'CO2_wltp' for each category within the object variable\n",
    "    df_non_nan = df_ptwltp[df_ptwltp[numeric_col].notna()]\n",
    "    mean_co2_by_category = df_non_nan.groupby(obj_col)[numeric_col].mean().sort_values()\n",
    "\n",
    "    # Get the top and bottom 7 categories\n",
    "    top_categories = mean_co2_by_category.tail(7).index\n",
    "    bottom_categories = mean_co2_by_category.head(7).index\n",
    "    \n",
    "    # Create two subplots side by side for the top and bottom 7 categories\n",
    "    fig, axes = plt.subplots(1, 2, figsize=(15, 4), sharey=False)\n",
    "\n",
    "    # Top 7 categories\n",
    "    sns.boxplot(y=obj_col, x=numeric_col, data=df_non_nan[df_non_nan[obj_col].isin(top_categories)],\n",
    "                ax=axes[0], order=top_categories)\n",
    "    axes[0].set_title(f'Top 7 {obj_col} by Highest {numeric_col}')\n",
    "    axes[0].tick_params(axis='y', rotation=0)\n",
    "\n",
    "    # Bottom 7 categories\n",
    "    sns.boxplot(y=obj_col, x=numeric_col, data=df_non_nan[df_non_nan[obj_col].isin(bottom_categories)],\n",
    "                ax=axes[1], order=bottom_categories)\n",
    "    axes[1].set_title(f'Bottom 7 {obj_col} by Lowest {numeric_col}')\n",
    "    axes[1].tick_params(axis='y', rotation=0)\n",
    "\n",
    "    # Display the subplots for the current object variable\n",
    "    plt.tight_layout()\n",
    "    plt.show()"
   ]
  },
  {
   "cell_type": "code",
   "execution_count": null,
   "id": "206efd32-81c1-451e-a642-d489a2ced416",
   "metadata": {},
   "outputs": [],
   "source": [
    "# Object columns to analyze against the numerical ones\n",
    "object_cols = ['Veh_Category', 'Energy', 'Fuel_mode', 'Eco-innovation program']\n",
    "numeric_col = 'CO2_wltp'\n",
    "\n",
    "# Create a figure to contain all the subplots\n",
    "fig, axes = plt.subplots(nrows=len(object_cols)+1, ncols=2, figsize=(20, 7 * (len(object_cols)+1)), gridspec_kw={'width_ratios': [1, 1]})\n",
    "\n",
    "# Remove the last axes on the right as we will not use it\n",
    "fig.delaxes(axes[-1, -1])\n",
    "\n",
    "for i, obj_col in enumerate(object_cols):\n",
    "    # Calculate means for each category within object column\n",
    "    category_means = df_ptwltp.groupby(obj_col)[numeric_col].mean().sort_values()\n",
    "    \n",
    "    # Find the Top 7 categories by highest mean CO2_wltp\n",
    "    top_categories = category_means.tail(7).index\n",
    "    # Find the Bottom 7 categories by lowest mean CO2_wltp\n",
    "    bottom_categories = category_means.head(7).index\n",
    "\n",
    "    # Top 7 categories boxplot\n",
    "    sns.boxplot(x=numeric_col, y=obj_col, data=df_ptwltp[df_ptwltp[obj_col].isin(top_categories)],\n",
    "                ax=axes[i, 0], order=top_categories)\n",
    "    axes[i, 0].set_title(f'Top 7 {obj_col} by Highest Average {numeric_col}')\n",
    "    \n",
    "    # Bottom 7 categories boxplot\n",
    "    sns.boxplot(x=numeric_col, y=obj_col, data=df_ptwltp[df_ptwltp[obj_col].isin(bottom_categories)],\n",
    "                ax=axes[i, 1], order=bottom_categories)\n",
    "    axes[i, 1].set_title(f'Bottom 7 {obj_col} by Lowest Average {numeric_col}')\n",
    "    \n",
    "    # Set the rotation for x-tick labels\n",
    "    axes[i, 0].tick_params(axis='y', rotation=0)\n",
    "    axes[i, 1].tick_params(axis='y', rotation=0)\n",
    "\n",
    "# Handle 'year' and 'Eco-innovation program' separately\n",
    "# Year distribution for CO2_wltp\n",
    "sns.boxplot(x='year', y=numeric_col, data=df_ptwltp, ax=axes[len(object_cols), 0])\n",
    "axes[len(object_cols), 0].set_title(f'Distribution of {numeric_col} by Year')\n",
    "axes[len(object_cols), 0].tick_params(axis='x', rotation=90)\n",
    "\n",
    "# Eco-innovation program distribution for CO2_wltp\n",
    "sns.boxplot(x='Eco-innovation program', y=numeric_col, data=df_ptwltp, ax=axes[len(object_cols), 1])\n",
    "axes[len(object_cols), 1].set_title(f'Distribution of {numeric_col} by Eco-innovation Program')\n",
    "\n",
    "# Adjust layout for better fit and to handle the titles and x labels\n",
    "plt.tight_layout()\n",
    "\n",
    "# Show the final plot\n",
    "plt.show()\n"
   ]
  }
 ],
 "metadata": {
  "kernelspec": {
   "display_name": "Python 3 (ipykernel)",
   "language": "python",
   "name": "python3"
  },
  "language_info": {
   "codemirror_mode": {
    "name": "ipython",
    "version": 3
   },
   "file_extension": ".py",
   "mimetype": "text/x-python",
   "name": "python",
   "nbconvert_exporter": "python",
   "pygments_lexer": "ipython3",
   "version": "3.11.7"
  }
 },
 "nbformat": 4,
 "nbformat_minor": 5
}
