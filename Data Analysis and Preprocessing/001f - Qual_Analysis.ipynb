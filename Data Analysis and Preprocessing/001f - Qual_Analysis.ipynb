{
 "cells": [
  {
   "cell_type": "code",
   "execution_count": 3,
   "id": "98958405-e9fa-4eec-8909-e5bbf06be299",
   "metadata": {
    "tags": []
   },
   "outputs": [
    {
     "name": "stdout",
     "output_type": "stream",
     "text": [
      "Evaluating Constructor...\n",
      "Evaluating Veh_type...\n",
      "Evaluating Brand...\n",
      "Evaluating Veh_Model...\n",
      "Evaluating Veh_Category...\n",
      "Evaluating Energy...\n",
      "Evaluating Fuel_mode...\n",
      "                    ANOVA F  ANOVA p-value  Eta squared  Spearman Correlation  \\\n",
      "Constructor     4117.307273   0.000000e+00     0.110060             -0.116772   \n",
      "Veh_type        2688.237575   0.000000e+00     0.571356             -0.046350   \n",
      "Brand           4017.359065   0.000000e+00     0.136293             -0.115080   \n",
      "Veh_Model       2482.147618   0.000000e+00     0.756992             -0.002146   \n",
      "Veh_Category     802.575937  1.790400e-176     0.000926             -0.016045   \n",
      "Energy        755251.974012   0.000000e+00     0.813519              0.013200   \n",
      "Fuel_mode     894122.193236   0.000000e+00     0.805133              0.132799   \n",
      "\n",
      "              Spearman p-value  Cramér's V  Cramér's p-value  \n",
      "Constructor       0.000000e+00    0.365968               0.0  \n",
      "Veh_type          0.000000e+00    0.729359               0.0  \n",
      "Brand             0.000000e+00    0.424392               0.0  \n",
      "Veh_Model         4.582619e-02    0.864676               0.0  \n",
      "Veh_Category      2.144339e-50    0.178304               0.0  \n",
      "Energy            1.130101e-34    0.985408               0.0  \n",
      "Fuel_mode         0.000000e+00    0.969261               0.0  \n"
     ]
    }
   ],
   "source": [
    "import pandas as pd\n",
    "import numpy as np\n",
    "import statsmodels.api as sm\n",
    "from statsmodels.formula.api import ols\n",
    "from scipy.stats import spearmanr, chi2_contingency\n",
    "\n",
    "def evaluate_single_categorical_relationship(df, cat_var, continuous_var, dichotomous_var):\n",
    "    results = {}\n",
    "    print(f\"Evaluating {cat_var}...\")\n",
    "    \n",
    "    # ANOVA\n",
    "    model = ols(f'{continuous_var} ~ C({cat_var})', data=df).fit()\n",
    "    anova_table = sm.stats.anova_lm(model, typ=2)\n",
    "    results['ANOVA F'] = model.fvalue\n",
    "    results['ANOVA p-value'] = model.f_pvalue\n",
    "    results['Eta squared'] = anova_table['sum_sq'].iloc[0] / anova_table['sum_sq'].sum()\n",
    "\n",
    "    # Spearman's Rank Correlation\n",
    "    df[f'{cat_var}_code'] = df[cat_var].astype('category').cat.codes\n",
    "    spearman_corr, spearman_p_value = spearmanr(df[f'{cat_var}_code'], df[continuous_var])\n",
    "    results['Spearman Correlation'] = spearman_corr\n",
    "    results['Spearman p-value'] = spearman_p_value\n",
    "\n",
    "    # Cramér's V\n",
    "    contingency_table = pd.crosstab(df[cat_var], df[dichotomous_var])\n",
    "    chi2, p, dof, expected = chi2_contingency(contingency_table)\n",
    "    n = contingency_table.sum().sum()\n",
    "    phi2 = chi2 / n\n",
    "    cramers_v = np.sqrt(phi2 / (min(contingency_table.shape) - 1))\n",
    "    results['Cramér\\'s V'] = cramers_v\n",
    "    results['Cramér\\'s p-value'] = p\n",
    "\n",
    "    return pd.DataFrame([results], index=[cat_var])\n",
    "\n",
    "# Data Preparation\n",
    "categorical_vars = ['Constructor', 'Veh_type', 'Brand', 'Veh_Model', 'Veh_Category', 'Energy', 'Fuel_mode']\n",
    "continuous_var = 'CO2_wltp'\n",
    "dichotomous_var = 'Em_on_target'\n",
    "df_Ptfinal = pd.read_csv('PT_Cleaned.csv')  \n",
    "\n",
    "# Run analysis for each category and accumulate results\n",
    "all_results = pd.DataFrame()\n",
    "for cat_var in categorical_vars:\n",
    "    cat_results = evaluate_single_categorical_relationship(df_Ptfinal, cat_var, continuous_var, dichotomous_var)\n",
    "    all_results = pd.concat([all_results, cat_results])\n",
    "\n",
    "# Output results\n",
    "print(all_results)\n",
    "all_results.to_csv('categorical_relationships.csv', index=True)\n",
    "\n",
    "### excluded 'Version'"
   ]
  },
  {
   "cell_type": "code",
   "execution_count": 4,
   "id": "964a6080-4192-478f-8831-46020d399836",
   "metadata": {
    "tags": []
   },
   "outputs": [
    {
     "data": {
      "text/html": [
       "<div>\n",
       "<style scoped>\n",
       "    .dataframe tbody tr th:only-of-type {\n",
       "        vertical-align: middle;\n",
       "    }\n",
       "\n",
       "    .dataframe tbody tr th {\n",
       "        vertical-align: top;\n",
       "    }\n",
       "\n",
       "    .dataframe thead th {\n",
       "        text-align: right;\n",
       "    }\n",
       "</style>\n",
       "<table border=\"1\" class=\"dataframe\">\n",
       "  <thead>\n",
       "    <tr style=\"text-align: right;\">\n",
       "      <th></th>\n",
       "      <th>ANOVA F</th>\n",
       "      <th>ANOVA p-value</th>\n",
       "      <th>Eta squared</th>\n",
       "      <th>Spearman Correlation</th>\n",
       "      <th>Spearman p-value</th>\n",
       "      <th>Cramér's V</th>\n",
       "      <th>Cramér's p-value</th>\n",
       "    </tr>\n",
       "  </thead>\n",
       "  <tbody>\n",
       "    <tr>\n",
       "      <th>Constructor</th>\n",
       "      <td>4117.307273</td>\n",
       "      <td>0.000000e+00</td>\n",
       "      <td>0.110060</td>\n",
       "      <td>-0.116772</td>\n",
       "      <td>0.000000e+00</td>\n",
       "      <td>0.365968</td>\n",
       "      <td>0.0</td>\n",
       "    </tr>\n",
       "    <tr>\n",
       "      <th>Veh_type</th>\n",
       "      <td>2688.237575</td>\n",
       "      <td>0.000000e+00</td>\n",
       "      <td>0.571356</td>\n",
       "      <td>-0.046350</td>\n",
       "      <td>0.000000e+00</td>\n",
       "      <td>0.729359</td>\n",
       "      <td>0.0</td>\n",
       "    </tr>\n",
       "    <tr>\n",
       "      <th>Brand</th>\n",
       "      <td>4017.359065</td>\n",
       "      <td>0.000000e+00</td>\n",
       "      <td>0.136293</td>\n",
       "      <td>-0.115080</td>\n",
       "      <td>0.000000e+00</td>\n",
       "      <td>0.424392</td>\n",
       "      <td>0.0</td>\n",
       "    </tr>\n",
       "    <tr>\n",
       "      <th>Veh_Model</th>\n",
       "      <td>2482.147618</td>\n",
       "      <td>0.000000e+00</td>\n",
       "      <td>0.756992</td>\n",
       "      <td>-0.002146</td>\n",
       "      <td>4.582619e-02</td>\n",
       "      <td>0.864676</td>\n",
       "      <td>0.0</td>\n",
       "    </tr>\n",
       "    <tr>\n",
       "      <th>Veh_Category</th>\n",
       "      <td>802.575937</td>\n",
       "      <td>1.790400e-176</td>\n",
       "      <td>0.000926</td>\n",
       "      <td>-0.016045</td>\n",
       "      <td>2.144339e-50</td>\n",
       "      <td>0.178304</td>\n",
       "      <td>0.0</td>\n",
       "    </tr>\n",
       "    <tr>\n",
       "      <th>Energy</th>\n",
       "      <td>755251.974012</td>\n",
       "      <td>0.000000e+00</td>\n",
       "      <td>0.813519</td>\n",
       "      <td>0.013200</td>\n",
       "      <td>1.130101e-34</td>\n",
       "      <td>0.985408</td>\n",
       "      <td>0.0</td>\n",
       "    </tr>\n",
       "    <tr>\n",
       "      <th>Fuel_mode</th>\n",
       "      <td>894122.193236</td>\n",
       "      <td>0.000000e+00</td>\n",
       "      <td>0.805133</td>\n",
       "      <td>0.132799</td>\n",
       "      <td>0.000000e+00</td>\n",
       "      <td>0.969261</td>\n",
       "      <td>0.0</td>\n",
       "    </tr>\n",
       "  </tbody>\n",
       "</table>\n",
       "</div>"
      ],
      "text/plain": [
       "                    ANOVA F  ANOVA p-value  Eta squared  Spearman Correlation  \\\n",
       "Constructor     4117.307273   0.000000e+00     0.110060             -0.116772   \n",
       "Veh_type        2688.237575   0.000000e+00     0.571356             -0.046350   \n",
       "Brand           4017.359065   0.000000e+00     0.136293             -0.115080   \n",
       "Veh_Model       2482.147618   0.000000e+00     0.756992             -0.002146   \n",
       "Veh_Category     802.575937  1.790400e-176     0.000926             -0.016045   \n",
       "Energy        755251.974012   0.000000e+00     0.813519              0.013200   \n",
       "Fuel_mode     894122.193236   0.000000e+00     0.805133              0.132799   \n",
       "\n",
       "              Spearman p-value  Cramér's V  Cramér's p-value  \n",
       "Constructor       0.000000e+00    0.365968               0.0  \n",
       "Veh_type          0.000000e+00    0.729359               0.0  \n",
       "Brand             0.000000e+00    0.424392               0.0  \n",
       "Veh_Model         4.582619e-02    0.864676               0.0  \n",
       "Veh_Category      2.144339e-50    0.178304               0.0  \n",
       "Energy            1.130101e-34    0.985408               0.0  \n",
       "Fuel_mode         0.000000e+00    0.969261               0.0  "
      ]
     },
     "metadata": {},
     "output_type": "display_data"
    }
   ],
   "source": [
    "display(all_results)"
   ]
  },
  {
   "cell_type": "code",
   "execution_count": null,
   "id": "74500c63-1ce0-481e-87ea-f9277fbf0b4e",
   "metadata": {
    "tags": []
   },
   "outputs": [],
   "source": [
    "## Evaluating the version separately due to the high number of modalities\n",
    "\n",
    "#version_result = evaluate_single_categorical_relationship(df_Ptfinal, 'Version', continuous_var, dichotomous_var)\n",
    "#all_results = pd.concat([all_results, pd.DataFrame([version_result])], ignore_index=True)"
   ]
  },
  {
   "cell_type": "code",
   "execution_count": 5,
   "id": "333c61d3-816b-44d3-ba2b-65688174242b",
   "metadata": {
    "tags": []
   },
   "outputs": [
    {
     "data": {
      "text/plain": [
       "<function all(iterable, /)>"
      ]
     },
     "execution_count": 5,
     "metadata": {},
     "output_type": "execute_result"
    }
   ],
   "source": [
    "all"
   ]
  },
  {
   "cell_type": "code",
   "execution_count": 6,
   "id": "802dad38-390a-4c5a-962c-aaacd468bb79",
   "metadata": {
    "tags": []
   },
   "outputs": [
    {
     "name": "stdout",
     "output_type": "stream",
     "text": [
      "<class 'pandas.core.frame.DataFrame'>\n",
      "Index: 7 entries, Constructor to Fuel_mode\n",
      "Data columns (total 7 columns):\n",
      " #   Column                Non-Null Count  Dtype  \n",
      "---  ------                --------------  -----  \n",
      " 0   ANOVA F               7 non-null      float64\n",
      " 1   ANOVA p-value         7 non-null      float64\n",
      " 2   Eta squared           7 non-null      float64\n",
      " 3   Spearman Correlation  7 non-null      float64\n",
      " 4   Spearman p-value      7 non-null      float64\n",
      " 5   Cramér's V            7 non-null      float64\n",
      " 6   Cramér's p-value      7 non-null      float64\n",
      "dtypes: float64(7)\n",
      "memory usage: 448.0+ bytes\n"
     ]
    }
   ],
   "source": [
    "all_results.info()"
   ]
  },
  {
   "cell_type": "code",
   "execution_count": null,
   "id": "7bc95573-f962-453a-bf45-87ff9862b2a5",
   "metadata": {},
   "outputs": [],
   "source": []
  }
 ],
 "metadata": {
  "kernelspec": {
   "display_name": "Python 3 (ipykernel)",
   "language": "python",
   "name": "python3"
  },
  "language_info": {
   "codemirror_mode": {
    "name": "ipython",
    "version": 3
   },
   "file_extension": ".py",
   "mimetype": "text/x-python",
   "name": "python",
   "nbconvert_exporter": "python",
   "pygments_lexer": "ipython3",
   "version": "3.11.7"
  }
 },
 "nbformat": 4,
 "nbformat_minor": 5
}
