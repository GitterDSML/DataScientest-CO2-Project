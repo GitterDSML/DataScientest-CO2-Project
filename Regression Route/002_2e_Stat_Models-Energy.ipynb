{
 "cells": [
  {
   "cell_type": "code",
   "execution_count": 1,
   "id": "a794d887-e90a-4251-8f7f-2485a9da1d83",
   "metadata": {},
   "outputs": [
    {
     "name": "stderr",
     "output_type": "stream",
     "text": [
      "C:\\Users\\mied1\\AppData\\Local\\Temp\\ipykernel_20252\\983397944.py:34: DtypeWarning: Columns (2,5) have mixed types. Specify dtype option on import or set low_memory=False.\n",
      "  df_Clean = pd.read_csv( r\"C:\\Users\\mied1\\02 - Proyecto DataScientest\\CleanedFiles\\All_Countries.csv\")\n"
     ]
    }
   ],
   "source": [
    "#################################################################################\n",
    "###    Applying modelisation: Ridge Regresion Model separated by energy. \n",
    "###\n",
    "###      Input: All Countries master file. \n",
    "###      Input: Correlation files stored in previous steps \n",
    "###   \n",
    "###   Model Funtions:\n",
    "###       \"Func_Ridge_By_Energy.ipynb\" \n",
    "###       \"Func_CrossValidation.ipynb\"\n",
    "###\n",
    "###    Parametters \n",
    "###       NumV = Num of best correlated Variables to select \n",
    "###       Target_Var = Target Variable  (CO2_wltp or XXXXXXX)\n",
    "###       V_Country = Got automaticaly from  files name. \n",
    "##################################################################################\n",
    "\n",
    "import pandas as pd\n",
    "import numpy as np\n",
    "from scipy.stats import pearsonr\n",
    "from sklearn.linear_model import Ridge, RidgeCV,LinearRegression\n",
    "from sklearn.preprocessing import StandardScaler\n",
    "from sklearn.model_selection import train_test_split\n",
    "from sklearn.metrics import r2_score\n",
    "import matplotlib.pyplot as plt\n",
    "import seaborn as sns\n",
    "import plotly.express as px\n",
    "from sklearn.metrics import mean_squared_error\n",
    "from sklearn.model_selection import cross_val_score\n",
    "from sklearn.model_selection import KFold\n",
    "\n",
    "%run \"Func_Ridge_By_Energy.ipynb\"\n",
    "%run \"Func_CrossValidation.ipynb\"\n",
    "\n",
    "# Reading imput files, Master, and correlation field one.     \n",
    "df_Clean = pd.read_csv( r\"C:\\Users\\mied1\\02 - Proyecto DataScientest\\CleanedFiles\\All_Countries.csv\")\n",
    "df_features = pd.read_csv(\"CMatrixEnergy_All_Countries.csvCO2_wltp.csv\")\n",
    "           \n",
    "#Identifying different energies to prepare a loop \n",
    "Energies = df_features[\"Ene\"].unique()\n",
    "\n",
    "V_Country=\"ALL\"\n",
    "Target_Var = \"CO2_wltp\"\n",
    "NumVar=12\n",
    "Alpha=10\n",
    "Splits=5\n"
   ]
  },
  {
   "cell_type": "code",
   "execution_count": null,
   "id": "f0ef5229-3f49-4358-b487-fb7136cc8c4a",
   "metadata": {},
   "outputs": [],
   "source": [
    "# -- opening a file to store this process results. \n",
    "import sys\n",
    "sys.stdout = open('Ridge_resultadosEnergy'+Target_Var+'.txt', 'w')\n",
    "\n",
    "#loop with all different energies and Run the ridge model for each one in a separate process. \n",
    "\n",
    "for z, Ene in enumerate(Energies):  \n",
    "\n",
    "     My_features = df_features[df_features[\"Ene\"] == Ene]\n",
    "     Top_features = My_features.nlargest(NumVar, \"Correlation Value\")['Field 2'].sort_values(ascending=False)\n",
    "\n",
    "#Run ridge model by energy from an external function. \n",
    "     Func_Ridge_By_Energy(df_Clean, Target_Var, Top_features, Alpha, V_Country,Energies , Ene, \"Ridge\")\n",
    "    \n",
    "#Run CrossValidation by energy from an external function.     \n",
    "     model = Ridge(alpha=Alpha)\n",
    "     Func_CrossValidation(df_Clean, Target_Var, Top_features, Alpha, V_Country, model)\n",
    "\n",
    "#Close the file with the results. \n",
    "sys.stdout.close()\n",
    "\n",
    "import winsound\n",
    "winsound.PlaySound(\"C:\\\\Users\\\\mied1\\\\00 - Herramientas Python\\\\mixkit-intro-transition-1146.wav\", winsound.SND_FILENAME)\n",
    " \n",
    "display (\"\\n End\")\n",
    "break"
   ]
  },
  {
   "cell_type": "code",
   "execution_count": null,
   "id": "ed8763c6-83c5-4e71-a9b3-ff33a4d40d0c",
   "metadata": {},
   "outputs": [],
   "source": []
  },
  {
   "cell_type": "code",
   "execution_count": null,
   "id": "e8053e5a-bb15-48a4-88e0-44ab89ac9517",
   "metadata": {},
   "outputs": [],
   "source": []
  },
  {
   "cell_type": "markdown",
   "id": "ac974c80-e74a-4275-b6f4-b3d924758e08",
   "metadata": {},
   "source": [
    "# "
   ]
  },
  {
   "cell_type": "code",
   "execution_count": null,
   "id": "1be13644-a617-4cba-b84e-9febaa2dd7a6",
   "metadata": {},
   "outputs": [],
   "source": [
    "\n",
    "  \n"
   ]
  },
  {
   "cell_type": "code",
   "execution_count": null,
   "id": "2c21b6c2-5290-4ea9-96f4-cbdf5d05c362",
   "metadata": {},
   "outputs": [],
   "source": []
  }
 ],
 "metadata": {
  "kernelspec": {
   "display_name": "Python 3 (ipykernel)",
   "language": "python",
   "name": "python3"
  },
  "language_info": {
   "codemirror_mode": {
    "name": "ipython",
    "version": 3
   },
   "file_extension": ".py",
   "mimetype": "text/x-python",
   "name": "python",
   "nbconvert_exporter": "python",
   "pygments_lexer": "ipython3",
   "version": "3.11.7"
  }
 },
 "nbformat": 4,
 "nbformat_minor": 5
}
