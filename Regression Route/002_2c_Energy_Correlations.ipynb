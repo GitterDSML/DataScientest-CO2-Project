{
 "cells": [
  {
   "cell_type": "code",
   "execution_count": 2,
   "id": "a75c87a9-8f7d-4a5b-aeb2-e3e997fb8661",
   "metadata": {},
   "outputs": [
    {
     "ename": "NameError",
     "evalue": "name 'V_Country' is not defined",
     "output_type": "error",
     "traceback": [
      "\u001b[1;31m---------------------------------------------------------------------------\u001b[0m",
      "\u001b[1;31mNameError\u001b[0m                                 Traceback (most recent call last)",
      "Cell \u001b[1;32mIn[2], line 13\u001b[0m\n\u001b[0;32m      1\u001b[0m \u001b[38;5;66;03m##########################################################\u001b[39;00m\n\u001b[0;32m      2\u001b[0m \u001b[38;5;66;03m####  This step is to create a different heatmap with specific correlation marix for each kind of energy\u001b[39;00m\n\u001b[0;32m      3\u001b[0m \u001b[38;5;66;03m####   to analyze the properties correlated with each type of energy\u001b[39;00m\n\u001b[1;32m   (...)\u001b[0m\n\u001b[0;32m      8\u001b[0m \u001b[38;5;66;03m#### Call the funtion to print the heatmap. \u001b[39;00m\n\u001b[0;32m      9\u001b[0m \u001b[38;5;66;03m##########################################################\u001b[39;00m\n\u001b[1;32m---> 13\u001b[0m \u001b[38;5;28;01mwith\u001b[39;00m \u001b[38;5;28mopen\u001b[39m(\u001b[38;5;124m'\u001b[39m\u001b[38;5;124mCMatrixEnergy_\u001b[39m\u001b[38;5;124m'\u001b[39m\u001b[38;5;241m+\u001b[39mV_Country\u001b[38;5;241m+\u001b[39mtarget_column\u001b[38;5;241m+\u001b[39m\u001b[38;5;124m'\u001b[39m\u001b[38;5;124m.csv\u001b[39m\u001b[38;5;124m'\u001b[39m, \u001b[38;5;124m'\u001b[39m\u001b[38;5;124mw\u001b[39m\u001b[38;5;124m'\u001b[39m) \u001b[38;5;28;01mas\u001b[39;00m f:\n\u001b[0;32m     14\u001b[0m     f\u001b[38;5;241m.\u001b[39mtruncate(\u001b[38;5;241m0\u001b[39m)\n\u001b[0;32m     16\u001b[0m Energies \u001b[38;5;241m=\u001b[39m df_Clean[\u001b[38;5;124m\"\u001b[39m\u001b[38;5;124mEnergy\u001b[39m\u001b[38;5;124m\"\u001b[39m]\u001b[38;5;241m.\u001b[39munique()\n",
      "\u001b[1;31mNameError\u001b[0m: name 'V_Country' is not defined"
     ]
    }
   ],
   "source": [
    "#################################################################################################################\n",
    "#####                                   002-2c-Energy_Correlation            ####################################\n",
    "#################################################################################################################\n",
    "####  This step is to create a different heatmap with specific correlation marix for each kind of energy\n",
    "####   to analyze the properties correlated with each type of energy\n",
    "####\n",
    "#### Identify different energies in the df_Clean. \n",
    "#### Creata a new and different df for each energy thanks to a loop. \n",
    "#### Create the correlation matrix and then select only pairs realted to our target variable. (\"Co2_wltp\") \n",
    "#### Call the funtion to print the heatmap. \n",
    "#################################################################################################################\n",
    "\n",
    "with open('CMatrixEnergy_'+V_Country+Target_Var+'.csv', 'w') as f:\n",
    "    f.truncate(0)\n",
    "\n",
    "Energies = df_Clean[\"Energy\"].unique()\n",
    "df_ = {}     \n",
    "\n",
    "for z, Ene in enumerate(Energies):\n",
    "    \n",
    "# -- Skip electric vehicles as they don't have Co2_emisions.\n",
    "    if Ene != 'electric' and  Ene != 'hydrogen':   \n",
    "          \n",
    "        df_Energy = df_Clean.loc[df_Clean[\"Energy\"] == Ene ] \n",
    " \n",
    "        correlated_fields=[]    \n",
    "        corr_matrix = pd.DataFrame(np.abs(df_Energy.select_dtypes(include=['int', 'float']).corr()))\n",
    "        \n",
    "        order = df_Energy.columns\n",
    "        corr_matrix = corr_matrix.reindex(index=order, columns=order)\n",
    "        corr_matrix = np.nan_to_num(corr_matrix)\n",
    "        \n",
    "        abs_corr_matrix = np.abs(corr_matrix)\n",
    "        Submatrix = np.where(abs_corr_matrix)\n",
    "\n",
    "# -- Loop to get pairs & corr Value for Relevant Fiel\n",
    "        for i in range(len(Submatrix[0])):\n",
    "            \n",
    "            field1 = df_Clean.columns[Submatrix[0][i]]\n",
    "            field2 = df_Clean.columns[Submatrix[1][i]]\n",
    "              \n",
    "            if field1 == Target_Var and  field2 != Target_Var:\n",
    "                correlation_value = corr_matrix[Submatrix[0][i], Submatrix[1][i]]\n",
    "                correlated_fields.append((field1, field2, round(correlation_value * 100))) \n",
    "                \n",
    "# -- Sort fields to see all plots in same order.  \n",
    "        correlated_fields = sorted(correlated_fields, key=lambda x: x[2], reverse=True)\n",
    "        df_corr = pd.DataFrame(correlated_fields, columns=['Field 1', 'Field 2', 'Correlation Value'])\n",
    "        corr_matrix = df_corr.pivot(index='Field 1', columns='Field 2', values='Correlation Value')\n",
    "                \n",
    "# -- draw the heatmap                \n",
    "        fig = px.imshow(corr_matrix, color_continuous_scale='RdBu',text_auto=True)\n",
    "        fig.update_layout( title='CO2_wltp Correlated fields for energy = '+ Ene + ' - ' + V_Country, title_x=0.4 )\n",
    "        fig.update_traces(text=corr_matrix.values)\n",
    "    \n",
    "        display(fig) \n",
    "                   \n",
    "# -- Store Correlation mat results in a file for next steps .         \n",
    "        df_corr.insert(0,'Ene',Ene)\n",
    "        df_corr = df_corr.sort_values(by='Correlation Value', ascending=False)\n",
    "\n",
    "        with open('CMatrixEnergy_'+V_Country+Target_Var+'.csv', 'a') as f:\n",
    "             df_corr.to_csv(f, header=f.tell()==0)\n",
    "\n"
   ]
  },
  {
   "cell_type": "code",
   "execution_count": null,
   "id": "771148b8-a87f-449d-a477-b6b725df0079",
   "metadata": {},
   "outputs": [],
   "source": []
  }
 ],
 "metadata": {
  "kernelspec": {
   "display_name": "Python 3 (ipykernel)",
   "language": "python",
   "name": "python3"
  },
  "language_info": {
   "codemirror_mode": {
    "name": "ipython",
    "version": 3
   },
   "file_extension": ".py",
   "mimetype": "text/x-python",
   "name": "python",
   "nbconvert_exporter": "python",
   "pygments_lexer": "ipython3",
   "version": "3.11.7"
  }
 },
 "nbformat": 4,
 "nbformat_minor": 5
}
