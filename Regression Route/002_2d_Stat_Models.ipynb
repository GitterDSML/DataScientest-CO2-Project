{
 "cells": [
  {
   "cell_type": "code",
   "execution_count": 1,
   "id": "a794d887-e90a-4251-8f7f-2485a9da1d83",
   "metadata": {},
   "outputs": [],
   "source": [
    "#################################################################################\n",
    "###    Applying modelisation: Ridge Regresion Model \n",
    "###\n",
    "###      Input: All Countries master file. \n",
    "###      Input: Correlation files stored in previous steps (\"CoorMatrix_\"+V_Country+\".csv\")\n",
    "###   \n",
    "###   Model Funtions:\n",
    "###       \"Func_RidgeModel.ipynb\" \n",
    "###       \"Func_CrossValidation.ipynb\"\n",
    "###\n",
    "###    Parametters \n",
    "###       NumV = Num of best correlated Variables to select \n",
    "###       Target_Var = Target Variable  (CO2_wltp or XXXXXXX)\n",
    "###       V_Country = Got automaticaly from  files name. \n",
    "##################################################################################\n",
    "\n",
    "import pandas as pd\n",
    "import numpy as np\n",
    "from scipy.stats import pearsonr\n",
    "from sklearn.linear_model import Ridge, RidgeCV,LinearRegression\n",
    "from sklearn.preprocessing import StandardScaler\n",
    "from sklearn.model_selection import train_test_split\n",
    "from sklearn.metrics import r2_score\n",
    "import matplotlib.pyplot as plt\n",
    "import seaborn as sns\n",
    "import plotly.express as px\n",
    "from sklearn.metrics import mean_squared_error\n",
    "from sklearn.model_selection import cross_val_score\n",
    "from sklearn.model_selection import KFold\n",
    "\n",
    "# Include the functions for Ridge Model & CrossValidation\n",
    "%run \"Func_RidgeModel.ipynb\" \n",
    "%run \"Func_CrossValidation.ipynb\"\n",
    "    \n",
    "# Read the CSV file into a DataFrame\n",
    "Cleanfiles = [ r\"C:\\Users\\mied1\\02 - Proyecto DataScientest\\CleanedFiles\\All_Countries.csv\"]\n",
    " \n",
    "Target_Var = \"CO2_wltp\"\n",
    "NumVar=12\n",
    "Alpha=1.0\n",
    "Splits=10\n",
    "\n"
   ]
  },
  {
   "cell_type": "code",
   "execution_count": null,
   "id": "f0ef5229-3f49-4358-b487-fb7136cc8c4a",
   "metadata": {},
   "outputs": [
    {
     "name": "stderr",
     "output_type": "stream",
     "text": [
      "C:\\Users\\mied1\\AppData\\Local\\Temp\\ipykernel_13532\\1084191582.py:10: DtypeWarning: Columns (2,5) have mixed types. Specify dtype option on import or set low_memory=False.\n",
      "  df_Clean = pd.read_csv(file)\n"
     ]
    }
   ],
   "source": [
    "%run \"Func_RidgeModel.ipynb\" \n",
    "\n",
    "# Opening a txt file to store results in it. \n",
    "import sys\n",
    "sys.stdout = open('Ridge_resultados'+Target_Var+'.txt', 'w')\n",
    "\n",
    "#-- Process ready to treat several files, even if now we are only using consolidated one. \n",
    "for file in Cleanfiles:    \n",
    "     df_Clean = pd.read_csv(file)\n",
    "\n",
    "     V_Country = file.rsplit(\"\\\\\", 1)[-1]\n",
    "     print(\" -------------------------------------\" + V_Country + \" -------------------------------------\")\n",
    "     \n",
    "# Reading the correlated fields stored  in the previous process. \n",
    "    \n",
    "     df_features = pd.read_csv(\"CMatrix_\"+V_Country+'_'+Target_Var+'.csv')\n",
    "     df_features[Target_Var] = df_features[Target_Var].abs()\n",
    "     df_features = df_features[df_features.iloc[:, 0] != Target_Var]\n",
    "    \n",
    "#Getting the top N correlated fields to launch the regresion Ridge Model (included in a external funcion.) \n",
    "\n",
    "     Top_features = df_features.nlargest(NumVar, Target_Var)['Unnamed: 0'].sort_values(ascending=False)\n",
    "     Func_RidgeModel(df_Clean, Target_Var, Top_features, Alpha, V_Country, \"Ridge\")\n",
    "    \n",
    "#Launching the CrossValidation since a previously created function \n",
    "    \n",
    "     model = Ridge(alpha=Alpha)\n",
    "     Func_CrossValidation(df_Clean, Target_Var, Top_features, Alpha, V_Country, model)\n",
    "\n",
    "sys.stdout.close()\n",
    "\n",
    "import winsound\n",
    "winsound.PlaySound(\"C:\\\\Users\\\\mied1\\\\00 - Herramientas Python\\\\mixkit-intro-transition-1146.wav\", winsound.SND_FILENAME)\n",
    " \n",
    "display (\"\\n End\")\n",
    "break"
   ]
  }
 ],
 "metadata": {
  "kernelspec": {
   "display_name": "Python 3 (ipykernel)",
   "language": "python",
   "name": "python3"
  },
  "language_info": {
   "codemirror_mode": {
    "name": "ipython",
    "version": 3
   },
   "file_extension": ".py",
   "mimetype": "text/x-python",
   "name": "python",
   "nbconvert_exporter": "python",
   "pygments_lexer": "ipython3",
   "version": "3.11.7"
  }
 },
 "nbformat": 4,
 "nbformat_minor": 5
}
