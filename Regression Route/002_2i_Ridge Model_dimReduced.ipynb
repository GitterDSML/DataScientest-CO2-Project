{
 "cells": [
  {
   "cell_type": "code",
   "execution_count": null,
   "id": "f3a2a31b-ae66-4245-9168-995d8a10b5b7",
   "metadata": {},
   "outputs": [
    {
     "name": "stderr",
     "output_type": "stream",
     "text": [
      "C:\\Users\\mied1\\AppData\\Local\\Temp\\ipykernel_17384\\869900017.py:30: DtypeWarning: Columns (2,5) have mixed types. Specify dtype option on import or set low_memory=False.\n",
      "  df_Clean = pd.read_csv(Cleanfile)\n"
     ]
    }
   ],
   "source": [
    "#################################################################################\n",
    "###           0O2_02_Stats_Model_DimReduced\n",
    "###\n",
    "##################################################################################\n",
    "\n",
    "import pandas as pd\n",
    "import numpy as np\n",
    "from scipy.stats import pearsonr\n",
    "from sklearn.linear_model import Ridge, RidgeCV,LinearRegression\n",
    "from sklearn.preprocessing import StandardScaler\n",
    "from sklearn.model_selection import train_test_split\n",
    "from sklearn.metrics import r2_score\n",
    "import matplotlib.pyplot as plt\n",
    "import seaborn as sns\n",
    "import plotly.express as px\n",
    "from sklearn.metrics import mean_squared_error\n",
    "from sklearn.model_selection import cross_val_score\n",
    "from sklearn.model_selection import KFold\n",
    "from sklearn.feature_selection import RFECV\n",
    "from sklearn.metrics import confusion_matrix\n",
    "\n",
    "%run \"Func_RidgeModel.ipynb\"\n",
    " \n",
    "%run \"Func_CrossValidation.ipynb\"\n",
    "\n",
    "\n",
    "#----- Read Input files. Master data & importance variables from PCA reduction. \n",
    "    \n",
    "Cleanfile = r\"C:\\Users\\mied1\\02 - Proyecto DataScientest\\CleanedFiles\\All_Countries.csv\"\n",
    "df_Clean = pd.read_csv(Cleanfile)\n",
    "\n",
    "SelectedVars = \"ReductionsRidge.csv\"\n",
    "df_SelectedVars = pd.read_csv(SelectedVars)\n",
    "\n",
    "ToDelete = df_Clean.loc[(df_Clean[\"Energy\"] == \"electric\") ]\n",
    "df_Clean = df_Clean.drop(ToDelete.index)\n",
    "   \n",
    "ToDelete = df_Clean.loc[(df_Clean[\"Energy\"] == \"hydrogen\") ]\n",
    "df_Clean = df_Clean.drop(ToDelete.index)\n",
    "\n",
    "#------------------------------------------------------------------------------------\n",
    "df_Clean = df_Clean.drop(\"Em_on_target\",axis=1)\n",
    "df_Clean = df_Clean.drop(\"CO2_Qtls\", axis=1)\n",
    "#------------------------------------------------------------------------------------\n",
    "\n",
    "Target_Var = \"CO2_wltp\"\n",
    "NumVar=12\n",
    "Alpha=0.5\n",
    "Splits=5\n",
    "V_Country = \"ALL_Countries\"\n",
    "model = Ridge(alpha=Alpha)\n",
    "Redct_Type = \"PCA\"\n"
   ]
  },
  {
   "cell_type": "code",
   "execution_count": 2,
   "id": "79655365-ce53-4ade-9c35-c784426c61b1",
   "metadata": {},
   "outputs": [
    {
     "name": "stderr",
     "output_type": "stream",
     "text": [
      "C:\\Users\\mied1\\AppData\\Local\\Temp\\ipykernel_17384\\4038422909.py:29: FutureWarning: The behavior of DataFrame concatenation with empty or all-NA entries is deprecated. In a future version, this will no longer exclude empty or all-NA columns when determining the result dtypes. To retain the old behavior, exclude the relevant entries before the concat operation.\n",
      "  result_df = pd.concat([result_df, pd.DataFrame({'Reduction_type': [Redct_Type], 'TargetVar': [Target_Var], 'R2': [r2], 'RMSE': [rmse]})], ignore_index=True)\n"
     ]
    }
   ],
   "source": [
    "#--   prepare File to store results \n",
    "import sys\n",
    "sys.stdout = open('Ridge_results_afterPCA_'+Target_Var+'.txt', 'w')\n",
    "result_df = pd.DataFrame(columns=[\"Reduction_type\", \"TargetVar\",  \"R2\",\"RMSE\"])\n",
    "\n",
    "#-- Select vars needed for training model \n",
    "y_target = df_Clean[Target_Var]\n",
    "Top_features  = df_SelectedVars[\"Variable\"].unique()      \n",
    "X_features = df_Clean[Top_features].copy() \n",
    "X_train, X_test, y_train, y_test = train_test_split(X_features, y_target, test_size=0.2)\n",
    "\n",
    "#-- Train and predict results\n",
    "model.fit(X_train, y_train)\n",
    "predictions = model.predict(X_test)   \n",
    "\n",
    "#-- Store results\n",
    "results = pd.DataFrame({'Predict': predictions, 'Real values': y_test})\n",
    "\n",
    "#-- Show results\n",
    "print(\" ****************************************** \")\n",
    "print(\" Ridge Regression \" )\n",
    "r2 = r2_score(y_test, predictions)\n",
    "print(\" R² score:\", r2)\n",
    "mse = mean_squared_error(y_test, predictions)\n",
    "rmse = np.sqrt(mse)\n",
    "print(\" RMSE:\", rmse)\n",
    "print(\" ****************************************** \")\n",
    "\n",
    "result_df = pd.concat([result_df, pd.DataFrame({'Reduction_type': [Redct_Type], 'TargetVar': [Target_Var], 'R2': [r2], 'RMSE': [rmse]})], ignore_index=True)\n",
    "\n",
    "#print(result_df.head(25))\n",
    "#print(results.head(25))\n",
    "\n",
    "#-- Close results file. \n",
    "sys.stdout.close()\n",
    "\n",
    "import winsound\n",
    "winsound.PlaySound(\"C:\\\\Users\\\\mied1\\\\00 - Herramientas Python\\\\mixkit-intro-transition-1146.wav\", winsound.SND_FILENAME)\n",
    " \n",
    "display (\"\\n End\")\n",
    "break"
   ]
  },
  {
   "cell_type": "code",
   "execution_count": null,
   "id": "4f592d03-95fb-4960-aeb5-f55c35ba3374",
   "metadata": {},
   "outputs": [],
   "source": []
  },
  {
   "cell_type": "code",
   "execution_count": null,
   "id": "37e37bb8-5afc-4c37-af59-20273c02af6c",
   "metadata": {},
   "outputs": [],
   "source": []
  },
  {
   "cell_type": "code",
   "execution_count": null,
   "id": "fff6c163-8ae2-4284-b4a2-580986306322",
   "metadata": {},
   "outputs": [],
   "source": []
  },
  {
   "cell_type": "code",
   "execution_count": null,
   "id": "08a1ffd2-91db-49ad-9d72-d633daeb3d71",
   "metadata": {},
   "outputs": [],
   "source": []
  },
  {
   "cell_type": "markdown",
   "id": "ac974c80-e74a-4275-b6f4-b3d924758e08",
   "metadata": {},
   "source": [
    "# "
   ]
  }
 ],
 "metadata": {
  "kernelspec": {
   "display_name": "Python 3 (ipykernel)",
   "language": "python",
   "name": "python3"
  },
  "language_info": {
   "codemirror_mode": {
    "name": "ipython",
    "version": 3
   },
   "file_extension": ".py",
   "mimetype": "text/x-python",
   "name": "python",
   "nbconvert_exporter": "python",
   "pygments_lexer": "ipython3",
   "version": "3.11.7"
  }
 },
 "nbformat": 4,
 "nbformat_minor": 5
}
