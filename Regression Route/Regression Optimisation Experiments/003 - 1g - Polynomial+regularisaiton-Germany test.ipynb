{
 "cells": [
  {
   "cell_type": "code",
   "execution_count": 13,
   "id": "8dea4e58-91bc-4d3d-a325-c7f8fb6a59ac",
   "metadata": {
    "tags": []
   },
   "outputs": [],
   "source": [
    "import pandas as pd\n",
    "import numpy as np\n",
    "from sklearn.preprocessing import StandardScaler, PolynomialFeatures\n",
    "from sklearn.metrics import r2_score, mean_squared_error\n",
    "import joblib"
   ]
  },
  {
   "cell_type": "code",
   "execution_count": 14,
   "id": "63325dcf-8e52-46cc-a637-778c11ce2f65",
   "metadata": {
    "tags": []
   },
   "outputs": [],
   "source": [
    "# Load new dataset\n",
    "new_data_file = r\"/Users/livalacaisse/Documents/DataScience/CO2/000-C02 First Delivery/Cleaned_countries/Cl_no_FR/DT_Cleaned.csv\"\n",
    "dtype_spec = {\n",
    "    'Fuel consumption': 'float32',\n",
    "    'Engine_cm3': 'float32',\n",
    "    'Kg_veh': 'float32',\n",
    "    'Test_mass': 'float32',\n",
    "    'Power_KW': 'float32',\n",
    "    'El_Consumpt_whkm': 'float32',\n",
    "    'Energy': 'category',\n",
    "    'year': 'int64',\n",
    "    'Wheelbase_mm': 'float32',\n",
    "    'Axle_width_steer_mm': 'float32',\n",
    "    'Axle_width_other_mm': 'float32',\n",
    "    'Eco-innovation program': 'float32',\n",
    "    'Electric range (km)': 'float32',\n",
    "    'Erwltp (g/km)': 'float32',\n",
    "    'CO2_wltp': 'float32'\n",
    "}\n",
    "new_data = pd.read_csv(new_data_file, dtype=dtype_spec, low_memory=False)"
   ]
  },
  {
   "cell_type": "code",
   "execution_count": 15,
   "id": "85d21760-0851-4399-9bfb-d65b3d75d7ac",
   "metadata": {
    "tags": []
   },
   "outputs": [],
   "source": [
    "# Define the features for each energy type\n",
    "features_dict = {\n",
    "    'petrol': ['Fuel consumption', 'Wheelbase_mm', 'Engine_cm3', 'Power_KW', 'Axle_width_steer_mm', \n",
    "               'Test_mass', 'Axle_width_other_mm', 'Eco-innovation program', 'Kg_veh', 'year', \n",
    "               'Erwltp (g/km)', 'El_Consumpt_whkm'],\n",
    "    'diesel': ['Wheelbase_mm', 'Axle_width_other_mm', 'Power_KW', 'Test_mass', 'Axle_width_steer_mm', \n",
    "               'Kg_veh', 'Engine_cm3', 'Fuel consumption', 'year', 'Erwltp (g/km)', 'Eco-innovation program', \n",
    "               'El_Consumpt_whkm'],\n",
    "    'lpg': ['Kg_veh', 'Fuel consumption', 'Axle_width_steer_mm', 'Axle_width_other_mm', 'year', 'Test_mass', \n",
    "            'Power_KW', 'Erwltp (g/km)', 'Engine_cm3', 'Wheelbase_mm', 'Eco-innovation program', \n",
    "            'Electric range (km)'],\n",
    "    'hybrid petrol': ['Engine_cm3', 'Axle_width_other_mm', 'Axle_width_steer_mm', 'Fuel consumption', \n",
    "                     'El_Consumpt_whkm', 'Power_KW', 'Electric range (km)', 'year', 'Wheelbase_mm', \n",
    "                     'Eco-innovation program', 'Test_mass', 'Kg_veh'],\n",
    "    'hybrid diesel': ['El_Consumpt_whkm', 'Axle_width_other_mm', 'Electric range (km)', 'Axle_width_steer_mm', \n",
    "                     'year', 'Kg_veh', 'Test_mass', 'Fuel consumption', 'Wheelbase_mm', 'Eco-innovation program', \n",
    "                     'Erwltp (g/km)', 'Power_KW']\n",
    "}"
   ]
  },
  {
   "cell_type": "code",
   "execution_count": 16,
   "id": "296312e0-f07d-4c17-847d-3659a83467a7",
   "metadata": {
    "tags": []
   },
   "outputs": [],
   "source": [
    "# Function to prepare data for prediction\n",
    "def prepare_data_for_prediction(df, energy_types, features_dict):\n",
    "    if isinstance(energy_types, list):\n",
    "        dfs = []\n",
    "        for energy in energy_types:\n",
    "            df_energy = df[df['Energy'] == energy].copy()\n",
    "            if df_energy.empty:\n",
    "                print(f\"No data for energy type: {energy}\")\n",
    "                continue\n",
    "            df_energy = df_energy[features_dict[energy] + ['CO2_wltp']]\n",
    "            dfs.append(df_energy)\n",
    "        if not dfs:\n",
    "            return pd.DataFrame(), pd.Series(), []\n",
    "        df_combined = pd.concat(dfs, axis=0)\n",
    "        features = [feat for energy in energy_types for feat in features_dict[energy]]\n",
    "        features = list(set(features))  # Remove duplicates\n",
    "    else:\n",
    "        df_combined = df[df['Energy'] == energy_types].copy()\n",
    "        if df_combined.empty:\n",
    "            print(f\"No data for energy type: {energy_types}\")\n",
    "            return pd.DataFrame(), pd.Series(), []\n",
    "        features = features_dict[energy_types]\n",
    "    \n",
    "    X = df_combined[features]\n",
    "    y = df_combined['CO2_wltp']\n",
    "    \n",
    "    return X, y, features\n"
   ]
  },
  {
   "cell_type": "code",
   "execution_count": 17,
   "id": "cdae1551-1179-4760-8800-40e3242eb07d",
   "metadata": {
    "tags": []
   },
   "outputs": [],
   "source": [
    "# List of saved models\n",
    "models = {\n",
    "    'petrol': 'best_model_petrol.joblib',\n",
    "    'diesel': 'best_model_diesel.joblib',\n",
    "    'lpg': 'best_model_lpg.joblib',\n",
    "    'hybrid petrol': 'best_model_hybrid_petrol.joblib',\n",
    "    'hybrid diesel': 'best_model_hybrid_diesel.joblib',\n",
    "    'all': 'best_model_all.joblib'\n",
    "}\n"
   ]
  },
  {
   "cell_type": "code",
   "execution_count": 18,
   "id": "45fd04e5-9014-4722-9058-1350fdd2fb0d",
   "metadata": {
    "tags": []
   },
   "outputs": [],
   "source": [
    "# Test all models on the new dataset\n",
    "def test_models_on_new_data(new_data, models, features_dict, degree=2):\n",
    "    results = {}\n",
    "    \n",
    "    for energy, model_file in models.items():\n",
    "        print(f\"\\nTesting model for {energy}...\")\n",
    "        \n",
    "        # Load the saved model\n",
    "        model = joblib.load(model_file)\n",
    "        \n",
    "        # Prepare the data for the specific energy type\n",
    "        if energy == 'all':\n",
    "            energy_types = list(features_dict.keys())\n",
    "        else:\n",
    "            energy_types = energy\n",
    "        \n",
    "        X, y, features = prepare_data_for_prediction(new_data, energy_types, features_dict)\n",
    "        \n",
    "        if X.empty or y.empty:\n",
    "            print(f\"No data available for energy type: {energy}\")\n",
    "            continue\n",
    "        \n",
    "        # Handle missing values\n",
    "        X = X.fillna(X.mean())\n",
    "        \n",
    "        # Polynomial Features\n",
    "        poly = PolynomialFeatures(degree=degree, include_bias=False)\n",
    "        X_poly = poly.fit_transform(X)\n",
    "        \n",
    "        # Standardize the features\n",
    "        scaler = StandardScaler()\n",
    "        X_scaled = scaler.fit_transform(X_poly)\n",
    "        \n",
    "        # Predictions with the loaded model\n",
    "        y_pred = model.predict(X_scaled)\n",
    "        \n",
    "        # Evaluation of the model\n",
    "        r2 = r2_score(y, y_pred)\n",
    "        mse = mean_squared_error(y, y_pred)\n",
    "        \n",
    "        # Results reporting\n",
    "        print(f\"R^2 Score: {r2}\")\n",
    "        print(f\"Mean Squared Error: {mse}\")\n",
    "        \n",
    "        results[energy] = {\n",
    "            'r2': r2,\n",
    "            'mse': mse\n",
    "        }\n",
    "    \n",
    "    return results"
   ]
  },
  {
   "cell_type": "code",
   "execution_count": 19,
   "id": "bf8ceb14-4bf8-489e-aa65-913530bf88da",
   "metadata": {
    "tags": []
   },
   "outputs": [
    {
     "name": "stdout",
     "output_type": "stream",
     "text": [
      "\n",
      "Testing model for petrol...\n",
      "R^2 Score: 0.7400788024872671\n",
      "Mean Squared Error: 317.9210289000305\n",
      "\n",
      "Testing model for diesel...\n",
      "R^2 Score: -1.1900488172179098\n",
      "Mean Squared Error: 2225.31301378844\n",
      "\n",
      "Testing model for lpg...\n",
      "R^2 Score: -1866.1765196275783\n",
      "Mean Squared Error: 72296.3617563038\n",
      "\n",
      "Testing model for hybrid petrol...\n",
      "R^2 Score: -19.87219645043516\n",
      "Mean Squared Error: 2779.7046266912093\n",
      "\n",
      "Testing model for hybrid diesel...\n",
      "R^2 Score: -133.15617182926636\n",
      "Mean Squared Error: 17500.585644923685\n",
      "\n",
      "Testing model for all...\n",
      "R^2 Score: -115542.97565405961\n",
      "Mean Squared Error: 318096028.44870085\n",
      "\n",
      "Results for petrol model:\n",
      "R^2 Score: 0.7400788024872671\n",
      "Mean Squared Error: 317.9210289000305\n",
      "\n",
      "Results for diesel model:\n",
      "R^2 Score: -1.1900488172179098\n",
      "Mean Squared Error: 2225.31301378844\n",
      "\n",
      "Results for lpg model:\n",
      "R^2 Score: -1866.1765196275783\n",
      "Mean Squared Error: 72296.3617563038\n",
      "\n",
      "Results for hybrid petrol model:\n",
      "R^2 Score: -19.87219645043516\n",
      "Mean Squared Error: 2779.7046266912093\n",
      "\n",
      "Results for hybrid diesel model:\n",
      "R^2 Score: -133.15617182926636\n",
      "Mean Squared Error: 17500.585644923685\n",
      "\n",
      "Results for all model:\n",
      "R^2 Score: -115542.97565405961\n",
      "Mean Squared Error: 318096028.44870085\n"
     ]
    }
   ],
   "source": [
    "# Test the models\n",
    "results = test_models_on_new_data(new_data, models, features_dict, degree=2)\n",
    "\n",
    "# Print the results\n",
    "for energy, metrics in results.items():\n",
    "    print(f\"\\nResults for {energy} model:\")\n",
    "    print(f\"R^2 Score: {metrics['r2']}\")\n",
    "    print(f\"Mean Squared Error: {metrics['mse']}\")"
   ]
  }
 ],
 "metadata": {
  "kernelspec": {
   "display_name": "Python 3 (ipykernel)",
   "language": "python",
   "name": "python3"
  },
  "language_info": {
   "codemirror_mode": {
    "name": "ipython",
    "version": 3
   },
   "file_extension": ".py",
   "mimetype": "text/x-python",
   "name": "python",
   "nbconvert_exporter": "python",
   "pygments_lexer": "ipython3",
   "version": "3.11.7"
  }
 },
 "nbformat": 4,
 "nbformat_minor": 5
}
