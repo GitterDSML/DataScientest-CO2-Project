{
 "cells": [
  {
   "cell_type": "code",
   "execution_count": 47,
   "id": "4dd26ace-ae62-4851-9d56-9e6e6c0f3790",
   "metadata": {
    "tags": []
   },
   "outputs": [],
   "source": [
    "import pandas as pd\n",
    "import numpy as np\n",
    "from sklearn.linear_model import Ridge\n",
    "from sklearn.preprocessing import StandardScaler\n",
    "from sklearn.model_selection import train_test_split, RandomizedSearchCV\n",
    "from sklearn.metrics import r2_score, mean_squared_error\n",
    "from imblearn.over_sampling import BorderlineSMOTE\n",
    "import matplotlib.pyplot as plt\n",
    "import seaborn as sns\n",
    "import smogn"
   ]
  },
  {
   "cell_type": "code",
   "execution_count": 61,
   "id": "e6cfd068-dbd8-4552-b0b5-248b1cdebb54",
   "metadata": {
    "tags": []
   },
   "outputs": [],
   "source": [
    "# File paths\n",
    "Cleanfile = r\"/Users/livalacaisse/Documents/DataScience/CO2/000-C02 First Delivery/Cleaned_countries/FR_Cleaned.csv\"\n",
    "\n",
    "\n",
    "# Data types specification\n",
    "dtype_spec = {\n",
    "    'Em_on_target': 'int64',\n",
    "    'Fuel consumption': 'float32',\n",
    "    'Engine_cm3': 'float32',\n",
    "    'Kg_veh': 'float32',\n",
    "    'Test_mass': 'float32',\n",
    "    'Power_KW': 'float32',\n",
    "    'El_Consumpt_whkm': 'float32',\n",
    "    'Energy': 'category',\n",
    "    'Fuel_mode': 'category',\n",
    "    'Brand': 'category',\n",
    "    'Veh_type': 'category',\n",
    "    'Veh_Model': 'category',\n",
    "    'Version': 'category',\n",
    "    'Veh_Category': 'category',\n",
    "    'year': 'int64',\n",
    "    'Country': 'category'\n",
    "}\n",
    "\n",
    "# Load data\n",
    "df_clean = pd.read_csv(Cleanfile, dtype=dtype_spec, low_memory=False)\n",
    "drop = [\"Unnamed: 0\", \"Em_on_target\"]\n",
    "df_clean = df_clean.drop(drop, axis=1)\n",
    "\n",
    "df_clean.drop_duplicates(inplace=True)\n",
    "\n",
    "# Filter out electric and hydrogen cars\n",
    "df_clean = df_clean[~df_clean['Energy'].isin(['electric', 'hydrogen'])]"
   ]
  },
  {
   "cell_type": "code",
   "execution_count": 18,
   "id": "eaf9e44b-7494-4f31-b1ae-6626c0358b81",
   "metadata": {
    "tags": []
   },
   "outputs": [],
   "source": [
    "#df_clean.info()"
   ]
  },
  {
   "cell_type": "code",
   "execution_count": 19,
   "id": "4e74b87d-5aa2-421a-91a1-ec2e606c3f7c",
   "metadata": {
    "tags": []
   },
   "outputs": [],
   "source": [
    "# Encode categorical variables\n",
    "#label_encoders = {}\n",
    "#for column in df_clean.select_dtypes(include=['category']).columns:\n",
    "    #label_encoders[column] = LabelEncoder()\n",
    "    #df_clean[column] = label_encoders[column].fit_transform(df_clean[column])\n",
    "\n",
    "# Display the first few rows to verify\n",
    "#df_clean.head()"
   ]
  },
  {
   "cell_type": "code",
   "execution_count": 62,
   "id": "83ff190f-ef02-4da9-b27c-62fec2533a4a",
   "metadata": {
    "tags": []
   },
   "outputs": [],
   "source": [
    "# Define the features for each energy type\n",
    "features_dict = {\n",
    "    'petrol': ['Fuel consumption', 'Wheelbase_mm', 'Engine_cm3', 'Power_KW', 'Axle_width_steer_mm', \n",
    "               'Test_mass', 'Axle_width_other_mm', 'Eco-innovation program', 'Kg_veh', 'year', \n",
    "               'Erwltp (g/km)', 'El_Consumpt_whkm'],\n",
    "    'diesel': ['Wheelbase_mm', 'Axle_width_other_mm', 'Power_KW', 'Test_mass', 'Axle_width_steer_mm', \n",
    "               'Kg_veh', 'Engine_cm3', 'Fuel consumption', 'year', 'Erwltp (g/km)', 'Eco-innovation program', \n",
    "               'El_Consumpt_whkm'],\n",
    "    'lpg': ['Kg_veh', 'Fuel consumption', 'Axle_width_steer_mm', 'Axle_width_other_mm', 'year', 'Test_mass', \n",
    "            'Power_KW', 'Erwltp (g/km)', 'Engine_cm3', 'Wheelbase_mm', 'Eco-innovation program', \n",
    "            'Electric range (km)'],\n",
    "    'hybrid petrol': ['Engine_cm3', 'Axle_width_other_mm', 'Axle_width_steer_mm', 'Fuel consumption', \n",
    "                     'El_Consumpt_whkm', 'Power_KW', 'Electric range (km)', 'year', 'Wheelbase_mm', \n",
    "                     'Eco-innovation program', 'Test_mass', 'Kg_veh'],\n",
    "    'hybrid diesel': ['El_Consumpt_whkm', 'Axle_width_other_mm', 'Electric range (km)', 'Axle_width_steer_mm', \n",
    "                     'year', 'Kg_veh', 'Test_mass', 'Fuel consumption', 'Wheelbase_mm', 'Eco-innovation program', \n",
    "                     'Erwltp (g/km)', 'Power_KW']\n",
    "}"
   ]
  },
  {
   "cell_type": "code",
   "execution_count": null,
   "id": "fcf3ed55-69cd-406c-8fa1-4a640686551b",
   "metadata": {
    "tags": []
   },
   "outputs": [
    {
     "name": "stderr",
     "output_type": "stream",
     "text": [
      "dist_matrix:   1%|1         | 992/74052 [6:53:26<2265:39:30, 111.64s/it]"
     ]
    }
   ],
   "source": [
    "# Combine features from all energy types for oversampling\n",
    "all_features = list(set().union(*features_dict.values()))\n",
    "\n",
    "# Fill missing values only for numeric columns\n",
    "df_clean.loc[:, df_clean.select_dtypes(include=[np.number]).columns] = df_clean.select_dtypes(include=[np.number]).fillna(df_clean.mean(numeric_only=True))\n",
    "\n",
    "# Reset index before applying SMOGN to avoid index errors\n",
    "df_clean.reset_index(drop=True, inplace=True)\n",
    "\n",
    "# Apply SMOGN to handle imbalanced regression for the entire dataset\n",
    "df_resampled = smogn.smoter(\n",
    "    data=df_clean[all_features + ['CO2_wltp']],\n",
    "    y='CO2_wltp',\n",
    "    k=5,\n",
    "    samp_method='balance'\n",
    ")\n",
    "\n",
    "print(\"Oversampling completed.\")"
   ]
  },
  {
   "cell_type": "code",
   "execution_count": null,
   "id": "76c4a930-9e0d-4d3f-bdd2-f2d3d2dd7024",
   "metadata": {
    "tags": []
   },
   "outputs": [],
   "source": [
    "# Function for Ridge Regression with RandomizedSearchCV\n",
    "def ridge_regression_with_random_search(X, y, feature_names, alphas, energy_type):\n",
    "    # Standardize the features\n",
    "    scaler = StandardScaler()\n",
    "    X_scaled = scaler.fit_transform(X)\n",
    "    \n",
    "    # Train-Test Split\n",
    "    X_train, X_test, y_train, y_test = train_test_split(X_scaled, y, test_size=0.2, random_state=42)\n",
    "    \n",
    "    # Parameter grid for alpha\n",
    "    param_grid = {'alpha': alphas}\n",
    "    \n",
    "    # Ridge Regression with RandomizedSearchCV\n",
    "    ridge = Ridge()\n",
    "    random_search = RandomizedSearchCV(ridge, param_distributions=param_grid, n_iter=100, cv=5, random_state=42, n_jobs=-1)\n",
    "    random_search.fit(X_train, y_train)\n",
    "    \n",
    "    # Best model\n",
    "    best_ridge = random_search.best_estimator_\n",
    "    best_alpha = random_search.best_params_['alpha']\n",
    "    \n",
    "    # Predictions with best model\n",
    "    y_pred_best = best_ridge.predict(X_test)\n",
    "    \n",
    "    # Evaluation of best model\n",
    "    best_r2 = r2_score(y_test, y_pred_best)\n",
    "    mse_best = mean_squared_error(y_test, y_pred_best)\n",
    "    \n",
    "    # Results reporting\n",
    "    print(f\"Energy Type: {energy_type}\")\n",
    "    print(f\"Best Alpha: {best_alpha}\")\n",
    "    print(f\"Best R^2 Score: {best_r2}\")\n",
    "    print(f\"Mean Squared Error: {mse_best}\")\n",
    "    \n",
    "    # Visualization\n",
    "    fig, axes = plt.subplots(1, 2, figsize=(18, 6))\n",
    "    \n",
    "    # Scatter plot of actual vs predicted for best model\n",
    "    sns.scatterplot(x=y_test, y=y_pred_best, ax=axes[0])\n",
    "    axes[0].set_xlabel('Actual CO2_wltp')\n",
    "    axes[0].set_ylabel('Predicted CO2_wltp')\n",
    "    axes[0].set_title(f'Regression Results for {energy_type}')\n",
    "    \n",
    "    # R^2 scores vs alpha plot\n",
    "    results_df = pd.DataFrame(random_search.cv_results_)\n",
    "    sns.lineplot(x='param_alpha', y='mean_test_score', data=results_df, ax=axes[1])\n",
    "    axes[1].set_xlabel('Alpha')\n",
    "    axes[1].set_ylabel('Mean CV R^2 Score')\n",
    "    axes[1].set_title('Mean CV R^2 Score vs Alpha')\n",
    "    \n",
    "    plt.tight_layout()\n",
    "    plt.show()\n",
    "    \n",
    "    # Print feature importance for best model\n",
    "    coef_df = pd.DataFrame({'Feature': feature_names, 'Coefficient': np.abs(best_ridge.coef_)})\n",
    "    coef_df = coef_df.sort_values(by='Coefficient', ascending=False)\n",
    "    \n",
    "    print(\"Feature Importances:\")\n",
    "    for feature, coef in zip(coef_df['Feature'], coef_df['Coefficient']):\n",
    "        print(f\"{feature}: {coef}\")\n",
    "    \n",
    "    # Visualization of feature importances\n",
    "    plt.figure(figsize=(10, 6))\n",
    "    sns.barplot(x='Coefficient', y='Feature', data=coef_df)\n",
    "    plt.axvline(x=0, color='red', linestyle='--')\n",
    "    plt.title('Feature Coefficients')\n",
    "    plt.tight_layout()\n",
    "    plt.show()\n",
    "    \n",
    "    return best_ridge, best_r2, mse_best\n"
   ]
  },
  {
   "cell_type": "code",
   "execution_count": null,
   "id": "ad18b0f9-07b9-4553-95e3-642d7cb2573d",
   "metadata": {
    "tags": []
   },
   "outputs": [],
   "source": [
    "# Apply Ridge Regression for each energy type after oversampling the entire dataset\n",
    "alphas = np.logspace(-6, 6, 100)\n",
    "results = {}\n",
    "for energy in features_dict.keys():\n",
    "    X, y, feature_names = prepare_data(df_resampled, energy, features_dict)\n",
    "    if not X.empty and not y.empty:\n",
    "        results[energy] = ridge_regression_with_random_search(X, y, feature_names, alphas, energy)"
   ]
  },
  {
   "cell_type": "code",
   "execution_count": null,
   "id": "62847f94-6808-4e59-bd81-d70700ed88ac",
   "metadata": {
    "tags": []
   },
   "outputs": [],
   "source": [
    "# Function to apply Ridge Regression with RandomizedSearchCV for all energy types together\n",
    "def ridge_regression_for_all_energies(df, features_dict, alphas):\n",
    "    # Combine features from all energy types\n",
    "    all_features = set()\n",
    "    for features in features_dict.values():\n",
    "        all_features.update(features)\n",
    "    all_features = list(all_features)\n",
    "    \n",
    "    # Prepare data\n",
    "    X = df[all_features]\n",
    "    y = df['CO2_wltp']\n",
    "    \n",
    "    # Standardize the features\n",
    "    scaler = StandardScaler()\n",
    "    X_scaled = scaler.fit_transform(X)\n",
    "    \n",
    "    # Train-Test Split\n",
    "    X_train, X_test, y_train, y_test = train_test_split(X_scaled, y, test_size=0.2, random_state=42)\n",
    "    \n",
    "    # Parameter grid for alpha\n",
    "    param_grid = {'alpha': alphas}\n",
    "    \n",
    "    # Ridge Regression with RandomizedSearchCV\n",
    "    ridge = Ridge()\n",
    "    random_search = RandomizedSearchCV(ridge, param_distributions=param_grid, n_iter=100, cv=5, random_state=42, n_jobs=-1)\n",
    "    random_search.fit(X_train, y_train)\n",
    "    \n",
    "    # Best model\n",
    "    best_ridge = random_search.best_estimator_\n",
    "    best_alpha = random_search.best_params_['alpha']\n",
    "    \n",
    "    # Predictions with best model\n",
    "    y_pred_best = best_ridge.predict(X_test)\n",
    "    \n",
    "    # Evaluation of best model\n",
    "    best_r2 = r2_score(y_test, y_pred_best)\n",
    "    mse_best = mean_squared_error(y_test, y_pred_best)\n",
    "    \n",
    "    # Results reporting\n",
    "    print(\"All Energy Types (excluding electric and hydrogen)\")\n",
    "    print(f\"Best Alpha: {best_alpha}\")\n",
    "    print(f\"Best R^2 Score: {best_r2}\")\n",
    "    print(f\"Mean Squared Error: {mse_best}\")\n",
    "    \n",
    "    # Visualization\n",
    "    fig, axes = plt.subplots(1, 2, figsize=(18, 6))\n",
    "    \n",
    "    # Scatter plot of actual vs predicted for best model\n",
    "    sns.scatterplot(x=y_test, y=y_pred_best, ax=axes[0])\n",
    "    axes[0].set_xlabel('Actual CO2_wltp')\n",
    "    axes[0].set_ylabel('Predicted CO2_wltp')\n",
    "    axes[0].set_title('Regression Results for All Energy Types')\n",
    "    \n",
    "    # R^2 scores vs alpha plot\n",
    "    results_df = pd.DataFrame(random_search.cv_results_)\n",
    "    sns.lineplot(x='param_alpha', y='mean_test_score', data=results_df, ax=axes[1])\n",
    "    axes[1].set_xlabel('Alpha')\n",
    "    axes[1].set_ylabel('Mean CV R^2 Score')\n",
    "    axes[1].set_title('Mean CV R^2 Score vs Alpha')\n",
    "    \n",
    "    plt.tight_layout()\n",
    "    plt.show()\n",
    "    \n",
    "    # Print feature importance for best model\n",
    "    coef_df = pd.DataFrame({'Feature': all_features, 'Coefficient': np.abs(best_ridge.coef_)})\n",
    "    coef_df = coef_df.sort_values(by='Coefficient', ascending=False)\n",
    "    \n",
    "    print(\"Feature Importances:\")\n",
    "    for feature, coef in zip(coef_df['Feature'], coef_df['Coefficient']):\n",
    "        print(f\"{feature}: {coef}\")\n",
    "    \n",
    "    # Visualization of feature importances\n",
    "    plt.figure(figsize=(10, 6))\n",
    "    sns.barplot(x='Coefficient', y='Feature', data=coef_df)\n",
    "    plt.axvline(x=0, color='red', linestyle='--')\n",
    "    plt.title('Feature Coefficients')\n",
    "    plt.tight_layout()\n",
    "    plt.show()\n",
    "    \n",
    "    return best_ridge, best_r2, mse_best"
   ]
  },
  {
   "cell_type": "code",
   "execution_count": null,
   "id": "e2e8c2d5-fedf-405f-a6a4-fa2153d56289",
   "metadata": {
    "tags": []
   },
   "outputs": [],
   "source": [
    "# Apply Ridge Regression for all energies together\n",
    "results['all_energies'] = ridge_regression_for_all_energies(df_resampled, features_dict, alphas)"
   ]
  },
  {
   "cell_type": "code",
   "execution_count": null,
   "id": "292a10f2-ff0c-426a-bfc0-191476646232",
   "metadata": {},
   "outputs": [],
   "source": [
    "def visualize_vehicle_count_by_energy(df):\n",
    "    plt.figure(figsize=(10, 6))\n",
    "    sns.countplot(data=df, x='Energy', order=df['Energy'].value_counts().index)\n",
    "    plt.title('Vehicle Count by Energy Type')\n",
    "    plt.xlabel('Energy Type')\n",
    "    plt.ylabel('Count')\n",
    "    plt.xticks(rotation=45)\n",
    "    plt.tight_layout()\n",
    "    plt.show()\n",
    "\n",
    "# Call the function to visualize\n",
    "visualize_vehicle_count_by_energy(df_clean)"
   ]
  },
  {
   "cell_type": "code",
   "execution_count": null,
   "id": "706bde00-b996-4cba-8484-4febc37682e0",
   "metadata": {
    "tags": []
   },
   "outputs": [],
   "source": [
    "# Assuming df_Clean has been loaded as per the previous context\n",
    "# Visualize vehicle count by Energy\n",
    "def visualize_vehicle_count_by_energy(df):\n",
    "    plt.figure(figsize=(10, 6))\n",
    "    ax = sns.countplot(data=df, x='Energy', order=df['Energy'].value_counts().index)\n",
    "    \n",
    "    # Add count labels on top of each bar\n",
    "    for p in ax.patches:\n",
    "        ax.annotate(f'{int(p.get_height())}', \n",
    "                    (p.get_x() + p.get_width() / 2., p.get_height()), \n",
    "                    ha = 'center', va = 'center', \n",
    "                    xytext = (0, 10), \n",
    "                    textcoords = 'offset points')\n",
    "    \n",
    "    plt.title('Vehicle Count by Energy Type')\n",
    "    plt.xlabel('Energy Type')\n",
    "    plt.ylabel('Count')\n",
    "    plt.xticks(rotation=45)\n",
    "    plt.tight_layout()\n",
    "    plt.show()\n",
    "\n",
    "# Call the function to visualize\n",
    "visualize_vehicle_count_by_energy(df_clean)"
   ]
  },
  {
   "cell_type": "code",
   "execution_count": null,
   "id": "63bd5b7f-5c2b-4695-b77e-38f0ddeeba86",
   "metadata": {},
   "outputs": [],
   "source": []
  }
 ],
 "metadata": {
  "kernelspec": {
   "display_name": "Python 3 (ipykernel)",
   "language": "python",
   "name": "python3"
  },
  "language_info": {
   "codemirror_mode": {
    "name": "ipython",
    "version": 3
   },
   "file_extension": ".py",
   "mimetype": "text/x-python",
   "name": "python",
   "nbconvert_exporter": "python",
   "pygments_lexer": "ipython3",
   "version": "3.11.7"
  }
 },
 "nbformat": 4,
 "nbformat_minor": 5
}
