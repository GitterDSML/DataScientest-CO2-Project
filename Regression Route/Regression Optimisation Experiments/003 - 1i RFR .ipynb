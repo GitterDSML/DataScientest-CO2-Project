{
 "cells": [
  {
   "cell_type": "code",
   "execution_count": 3,
   "id": "fea11666-d08e-4822-9367-40d88e20f522",
   "metadata": {
    "tags": []
   },
   "outputs": [],
   "source": [
    "import pandas as pd\n",
    "import numpy as np\n",
    "from sklearn.ensemble import RandomForestRegressor\n",
    "from sklearn.preprocessing import StandardScaler, PowerTransformer\n",
    "from sklearn.model_selection import train_test_split, RandomizedSearchCV, cross_val_score, KFold\n",
    "from sklearn.metrics import r2_score, mean_squared_error\n",
    "import matplotlib.pyplot as plt\n",
    "import seaborn as sns\n",
    "import joblib"
   ]
  },
  {
   "cell_type": "code",
   "execution_count": 4,
   "id": "5fbf46e4-5d47-4824-ae44-d2b5cbe3a750",
   "metadata": {
    "tags": []
   },
   "outputs": [],
   "source": [
    "# File paths\n",
    "fr = r\"/Users/livalacaisse/Documents/DataScience/CO2/000-C02 First Delivery/Cleaned_countries/FR_Cleaned.csv\"\n",
    "de = r\"/Users/livalacaisse/Documents/DataScience/CO2/000-C02 First Delivery/Cleaned_countries/Cl_no_FR/DT_Cleaned.csv\"\n",
    "es = r\"/Users/livalacaisse/Documents/DataScience/CO2/000-C02 First Delivery/Cleaned_countries/Cl_no_FR/ES_Cleaned.csv\"\n",
    "it = r\"/Users/livalacaisse/Documents/DataScience/CO2/000-C02 First Delivery/Cleaned_countries/Cl_no_FR/IT_Cleaned.csv\"\n",
    "pt = r\"/Users/livalacaisse/Documents/DataScience/CO2/000-C02 First Delivery/Cleaned_countries/Cl_no_FR/PT_Cleaned.csv\"\n",
    "\n",
    "# Data types specification\n",
    "dtype_spec = {\n",
    "    'Em_on_target': 'int64',\n",
    "    'Fuel consumption': 'float32',\n",
    "    'Engine_cm3': 'float32',\n",
    "    'Kg_veh': 'float32',\n",
    "    'Test_mass': 'float32',\n",
    "    'Power_KW': 'float32',\n",
    "    'El_Consumpt_whkm': 'float32',\n",
    "    'Energy': 'category',\n",
    "    'Fuel_mode': 'category',\n",
    "    'Brand': 'category',\n",
    "    'Veh_type': 'category',\n",
    "    'Veh_Model': 'category',\n",
    "    'Version': 'category',\n",
    "    'Veh_Category': 'category',\n",
    "    'year': 'int64',\n",
    "    'Country': 'category'\n",
    "}"
   ]
  },
  {
   "cell_type": "code",
   "execution_count": 5,
   "id": "05e4c1ef-ef1d-4c7f-ae1e-8f47075c8358",
   "metadata": {
    "tags": []
   },
   "outputs": [],
   "source": [
    "# Load data in chunks\n",
    "def load_data_in_chunks(files, dtype_spec, chunksize=50000):\n",
    "    df_list = []\n",
    "    for file in files:\n",
    "        for chunk in pd.read_csv(file, dtype=dtype_spec, chunksize=chunksize):\n",
    "            df_list.append(chunk)\n",
    "    return pd.concat(df_list, ignore_index=True)"
   ]
  },
  {
   "cell_type": "code",
   "execution_count": 6,
   "id": "befc3798-34fe-4d4b-9307-093725d48338",
   "metadata": {
    "tags": []
   },
   "outputs": [],
   "source": [
    "# Load data\n",
    "files = [fr, de, es, pt, it]\n",
    "df_clean = load_data_in_chunks(files, dtype_spec)\n",
    "\n",
    "# Filter only hybrid petrol and hybrid diesel vehicles\n",
    "hybrid_df = df_clean[df_clean['Energy'].isin(['hybrid petrol', 'hybrid diesel'])]"
   ]
  },
  {
   "cell_type": "code",
   "execution_count": 7,
   "id": "ae611974-d674-41b4-a1e6-95af1384c81b",
   "metadata": {
    "tags": []
   },
   "outputs": [],
   "source": [
    "# Define features for hybrid vehicles\n",
    "features = ['Engine_cm3', 'Axle_width_other_mm', 'Axle_width_steer_mm', 'Fuel consumption', \n",
    "            'El_Consumpt_whkm', 'Power_KW', 'Electric range (km)', 'year', 'Wheelbase_mm', \n",
    "            'Eco-innovation program', 'Test_mass', 'Kg_veh']\n",
    "\n",
    "# Prepare the data\n",
    "X = hybrid_df[features]\n",
    "y = hybrid_df['CO2_wltp']"
   ]
  },
  {
   "cell_type": "code",
   "execution_count": 8,
   "id": "70a09e93-a660-4258-96a8-4fd795a2847f",
   "metadata": {
    "tags": []
   },
   "outputs": [],
   "source": [
    "# Log transformation to address skewness\n",
    "X_log = np.log1p(X)\n",
    "y_log = np.log1p(y)"
   ]
  },
  {
   "cell_type": "code",
   "execution_count": 9,
   "id": "f481375b-78c3-44b7-bc76-3a4ba3a75b33",
   "metadata": {
    "tags": []
   },
   "outputs": [],
   "source": [
    "# Standard scaling\n",
    "scaler = StandardScaler()\n",
    "X_scaled = scaler.fit_transform(X_log)"
   ]
  },
  {
   "cell_type": "code",
   "execution_count": 10,
   "id": "843c6706-2a14-4951-aaa2-f66b3b842a01",
   "metadata": {
    "tags": []
   },
   "outputs": [],
   "source": [
    "# Train-test split\n",
    "X_train, X_test, y_train, y_test = train_test_split(X_scaled, y_log, test_size=0.2, random_state=42)"
   ]
  },
  {
   "cell_type": "code",
   "execution_count": 52,
   "id": "d06f4682-45da-41fc-b31b-0c1c7e53ecce",
   "metadata": {
    "tags": []
   },
   "outputs": [],
   "source": [
    "# Random Forest Regression\n",
    "rf = RandomForestRegressor()"
   ]
  },
  {
   "cell_type": "code",
   "execution_count": 53,
   "id": "557b74c1-c01a-4c74-ac56-d4783c0358a8",
   "metadata": {
    "tags": []
   },
   "outputs": [],
   "source": [
    "# Parameter grid for RandomizedSearchCV\n",
    "param_grid = {\n",
    "    'n_estimators': [100, 300, 500],\n",
    "    'max_features': ['sqrt', 'log2', None],\n",
    "    'max_depth': [10, 30, 50, None],\n",
    "    'min_samples_split': [2, 5, 10],\n",
    "    'min_samples_leaf': [1, 2, 4],\n",
    "    'bootstrap': [True, False]\n",
    "}"
   ]
  },
  {
   "cell_type": "code",
   "execution_count": 54,
   "id": "1a6599a2-c91f-4aa1-91da-c909d239ca56",
   "metadata": {
    "tags": []
   },
   "outputs": [],
   "source": [
    "# Cross-validation\n",
    "kf = KFold(n_splits=5, shuffle=True, random_state=42)"
   ]
  },
  {
   "cell_type": "code",
   "execution_count": 55,
   "id": "5c70347d-054f-4253-9d21-9317cbf8ce20",
   "metadata": {
    "tags": []
   },
   "outputs": [
    {
     "name": "stderr",
     "output_type": "stream",
     "text": [
      "/opt/anaconda3/lib/python3.11/site-packages/joblib/externals/loky/process_executor.py:700: UserWarning: A worker stopped while some jobs were given to the executor. This can be caused by a too short worker timeout or by a memory leak.\n",
      "  warnings.warn(\n"
     ]
    },
    {
     "data": {
      "text/html": [
       "<style>#sk-container-id-2 {color: black;background-color: white;}#sk-container-id-2 pre{padding: 0;}#sk-container-id-2 div.sk-toggleable {background-color: white;}#sk-container-id-2 label.sk-toggleable__label {cursor: pointer;display: block;width: 100%;margin-bottom: 0;padding: 0.3em;box-sizing: border-box;text-align: center;}#sk-container-id-2 label.sk-toggleable__label-arrow:before {content: \"▸\";float: left;margin-right: 0.25em;color: #696969;}#sk-container-id-2 label.sk-toggleable__label-arrow:hover:before {color: black;}#sk-container-id-2 div.sk-estimator:hover label.sk-toggleable__label-arrow:before {color: black;}#sk-container-id-2 div.sk-toggleable__content {max-height: 0;max-width: 0;overflow: hidden;text-align: left;background-color: #f0f8ff;}#sk-container-id-2 div.sk-toggleable__content pre {margin: 0.2em;color: black;border-radius: 0.25em;background-color: #f0f8ff;}#sk-container-id-2 input.sk-toggleable__control:checked~div.sk-toggleable__content {max-height: 200px;max-width: 100%;overflow: auto;}#sk-container-id-2 input.sk-toggleable__control:checked~label.sk-toggleable__label-arrow:before {content: \"▾\";}#sk-container-id-2 div.sk-estimator input.sk-toggleable__control:checked~label.sk-toggleable__label {background-color: #d4ebff;}#sk-container-id-2 div.sk-label input.sk-toggleable__control:checked~label.sk-toggleable__label {background-color: #d4ebff;}#sk-container-id-2 input.sk-hidden--visually {border: 0;clip: rect(1px 1px 1px 1px);clip: rect(1px, 1px, 1px, 1px);height: 1px;margin: -1px;overflow: hidden;padding: 0;position: absolute;width: 1px;}#sk-container-id-2 div.sk-estimator {font-family: monospace;background-color: #f0f8ff;border: 1px dotted black;border-radius: 0.25em;box-sizing: border-box;margin-bottom: 0.5em;}#sk-container-id-2 div.sk-estimator:hover {background-color: #d4ebff;}#sk-container-id-2 div.sk-parallel-item::after {content: \"\";width: 100%;border-bottom: 1px solid gray;flex-grow: 1;}#sk-container-id-2 div.sk-label:hover label.sk-toggleable__label {background-color: #d4ebff;}#sk-container-id-2 div.sk-serial::before {content: \"\";position: absolute;border-left: 1px solid gray;box-sizing: border-box;top: 0;bottom: 0;left: 50%;z-index: 0;}#sk-container-id-2 div.sk-serial {display: flex;flex-direction: column;align-items: center;background-color: white;padding-right: 0.2em;padding-left: 0.2em;position: relative;}#sk-container-id-2 div.sk-item {position: relative;z-index: 1;}#sk-container-id-2 div.sk-parallel {display: flex;align-items: stretch;justify-content: center;background-color: white;position: relative;}#sk-container-id-2 div.sk-item::before, #sk-container-id-2 div.sk-parallel-item::before {content: \"\";position: absolute;border-left: 1px solid gray;box-sizing: border-box;top: 0;bottom: 0;left: 50%;z-index: -1;}#sk-container-id-2 div.sk-parallel-item {display: flex;flex-direction: column;z-index: 1;position: relative;background-color: white;}#sk-container-id-2 div.sk-parallel-item:first-child::after {align-self: flex-end;width: 50%;}#sk-container-id-2 div.sk-parallel-item:last-child::after {align-self: flex-start;width: 50%;}#sk-container-id-2 div.sk-parallel-item:only-child::after {width: 0;}#sk-container-id-2 div.sk-dashed-wrapped {border: 1px dashed gray;margin: 0 0.4em 0.5em 0.4em;box-sizing: border-box;padding-bottom: 0.4em;background-color: white;}#sk-container-id-2 div.sk-label label {font-family: monospace;font-weight: bold;display: inline-block;line-height: 1.2em;}#sk-container-id-2 div.sk-label-container {text-align: center;}#sk-container-id-2 div.sk-container {/* jupyter's `normalize.less` sets `[hidden] { display: none; }` but bootstrap.min.css set `[hidden] { display: none !important; }` so we also need the `!important` here to be able to override the default hidden behavior on the sphinx rendered scikit-learn.org. See: https://github.com/scikit-learn/scikit-learn/issues/21755 */display: inline-block !important;position: relative;}#sk-container-id-2 div.sk-text-repr-fallback {display: none;}</style><div id=\"sk-container-id-2\" class=\"sk-top-container\"><div class=\"sk-text-repr-fallback\"><pre>RandomizedSearchCV(cv=KFold(n_splits=5, random_state=42, shuffle=True),\n",
       "                   estimator=RandomForestRegressor(), n_iter=50, n_jobs=-1,\n",
       "                   param_distributions={&#x27;bootstrap&#x27;: [True, False],\n",
       "                                        &#x27;max_depth&#x27;: [10, 30, 50, None],\n",
       "                                        &#x27;max_features&#x27;: [&#x27;sqrt&#x27;, &#x27;log2&#x27;, None],\n",
       "                                        &#x27;min_samples_leaf&#x27;: [1, 2, 4],\n",
       "                                        &#x27;min_samples_split&#x27;: [2, 5, 10],\n",
       "                                        &#x27;n_estimators&#x27;: [100, 300, 500]},\n",
       "                   random_state=42)</pre><b>In a Jupyter environment, please rerun this cell to show the HTML representation or trust the notebook. <br />On GitHub, the HTML representation is unable to render, please try loading this page with nbviewer.org.</b></div><div class=\"sk-container\" hidden><div class=\"sk-item sk-dashed-wrapped\"><div class=\"sk-label-container\"><div class=\"sk-label sk-toggleable\"><input class=\"sk-toggleable__control sk-hidden--visually\" id=\"sk-estimator-id-4\" type=\"checkbox\" ><label for=\"sk-estimator-id-4\" class=\"sk-toggleable__label sk-toggleable__label-arrow\">RandomizedSearchCV</label><div class=\"sk-toggleable__content\"><pre>RandomizedSearchCV(cv=KFold(n_splits=5, random_state=42, shuffle=True),\n",
       "                   estimator=RandomForestRegressor(), n_iter=50, n_jobs=-1,\n",
       "                   param_distributions={&#x27;bootstrap&#x27;: [True, False],\n",
       "                                        &#x27;max_depth&#x27;: [10, 30, 50, None],\n",
       "                                        &#x27;max_features&#x27;: [&#x27;sqrt&#x27;, &#x27;log2&#x27;, None],\n",
       "                                        &#x27;min_samples_leaf&#x27;: [1, 2, 4],\n",
       "                                        &#x27;min_samples_split&#x27;: [2, 5, 10],\n",
       "                                        &#x27;n_estimators&#x27;: [100, 300, 500]},\n",
       "                   random_state=42)</pre></div></div></div><div class=\"sk-parallel\"><div class=\"sk-parallel-item\"><div class=\"sk-item\"><div class=\"sk-label-container\"><div class=\"sk-label sk-toggleable\"><input class=\"sk-toggleable__control sk-hidden--visually\" id=\"sk-estimator-id-5\" type=\"checkbox\" ><label for=\"sk-estimator-id-5\" class=\"sk-toggleable__label sk-toggleable__label-arrow\">estimator: RandomForestRegressor</label><div class=\"sk-toggleable__content\"><pre>RandomForestRegressor()</pre></div></div></div><div class=\"sk-serial\"><div class=\"sk-item\"><div class=\"sk-estimator sk-toggleable\"><input class=\"sk-toggleable__control sk-hidden--visually\" id=\"sk-estimator-id-6\" type=\"checkbox\" ><label for=\"sk-estimator-id-6\" class=\"sk-toggleable__label sk-toggleable__label-arrow\">RandomForestRegressor</label><div class=\"sk-toggleable__content\"><pre>RandomForestRegressor()</pre></div></div></div></div></div></div></div></div></div></div>"
      ],
      "text/plain": [
       "RandomizedSearchCV(cv=KFold(n_splits=5, random_state=42, shuffle=True),\n",
       "                   estimator=RandomForestRegressor(), n_iter=50, n_jobs=-1,\n",
       "                   param_distributions={'bootstrap': [True, False],\n",
       "                                        'max_depth': [10, 30, 50, None],\n",
       "                                        'max_features': ['sqrt', 'log2', None],\n",
       "                                        'min_samples_leaf': [1, 2, 4],\n",
       "                                        'min_samples_split': [2, 5, 10],\n",
       "                                        'n_estimators': [100, 300, 500]},\n",
       "                   random_state=42)"
      ]
     },
     "execution_count": 55,
     "metadata": {},
     "output_type": "execute_result"
    }
   ],
   "source": [
    "# RandomizedSearchCV\n",
    "random_search = RandomizedSearchCV(rf, param_distributions=param_grid, n_iter=50, cv=kf, random_state=42, n_jobs=-1)\n",
    "random_search.fit(X_train, y_train)"
   ]
  },
  {
   "cell_type": "code",
   "execution_count": 56,
   "id": "479c82d8-04f1-4dec-9397-a18cc0630f69",
   "metadata": {
    "tags": []
   },
   "outputs": [],
   "source": [
    "# Best model\n",
    "best_rf = random_search.best_estimator_"
   ]
  },
  {
   "cell_type": "code",
   "execution_count": 57,
   "id": "d769f6dc-39e3-413a-9209-69df15a3a306",
   "metadata": {
    "tags": []
   },
   "outputs": [],
   "source": [
    "# Predictions with best model\n",
    "y_pred_best = best_rf.predict(X_test)"
   ]
  },
  {
   "cell_type": "code",
   "execution_count": 58,
   "id": "d50edce2-c431-42ad-b104-cc46736b6ce8",
   "metadata": {
    "tags": []
   },
   "outputs": [],
   "source": [
    "# Inverse log transformation for evaluation\n",
    "y_test_exp = np.expm1(y_test)\n",
    "y_pred_best_exp = np.expm1(y_pred_best)"
   ]
  },
  {
   "cell_type": "code",
   "execution_count": 59,
   "id": "5c7977b6-9623-438c-bf68-e5c0a315dd44",
   "metadata": {},
   "outputs": [],
   "source": [
    "# Function to calculate RMSE\n",
    "#def root_mean_squared_error(y_true, y_pred):\n",
    "#    return np.sqrt(mean_squared_error(y_true, y_pred))"
   ]
  },
  {
   "cell_type": "code",
   "execution_count": 60,
   "id": "7cf674a2-9b09-4fff-8315-56c6907da31b",
   "metadata": {
    "tags": []
   },
   "outputs": [],
   "source": [
    "# Evaluation of best model\n",
    "best_r2 = r2_score(y_test_exp, y_pred_best_exp)\n",
    "mse_best = mean_squared_error(y_test_exp, y_pred_best_exp)\n",
    "rmse_best = np.sqrt(mse_best)"
   ]
  },
  {
   "cell_type": "code",
   "execution_count": 61,
   "id": "e66553f3-f5de-478e-8390-4d90a0a406f6",
   "metadata": {},
   "outputs": [],
   "source": [
    "# Best model\n",
    "best_rf = random_search.best_estimator_\n",
    "best_params = random_search.best_params_"
   ]
  },
  {
   "cell_type": "code",
   "execution_count": 62,
   "id": "8d8f9910-77a0-494e-8aa3-53a870e1ce36",
   "metadata": {
    "tags": []
   },
   "outputs": [],
   "source": [
    "# Cross-validated R^2\n",
    "cv_r2 = cross_val_score(best_rf, X_scaled, y_log, cv=kf, scoring='r2').mean()"
   ]
  },
  {
   "cell_type": "code",
   "execution_count": 63,
   "id": "0e46a355-9e57-499f-9970-ea173cc7c598",
   "metadata": {
    "tags": []
   },
   "outputs": [
    {
     "name": "stdout",
     "output_type": "stream",
     "text": [
      "Best R^2 Score: 0.9986065384470275\n",
      "Mean Squared Error: 0.34526575267585\n",
      "RMSE: 0.5875931863762973\n",
      "Cross-validated R^2: 0.9993282911658923\n",
      "Best Parameters: {'n_estimators': 300, 'min_samples_split': 5, 'min_samples_leaf': 1, 'max_features': 'sqrt', 'max_depth': None, 'bootstrap': True}\n"
     ]
    }
   ],
   "source": [
    "# Results reporting\n",
    "print(f\"Best R^2 Score: {best_r2}\")\n",
    "print(f\"Mean Squared Error: {mse_best}\")\n",
    "print(f\"RMSE: {rmse_best}\")\n",
    "print(f\"Cross-validated R^2: {cv_r2}\")\n",
    "print(f\"Best Parameters: {best_params}\")"
   ]
  },
  {
   "cell_type": "code",
   "execution_count": 72,
   "id": "c3cda509-21b0-4e89-9730-d8e4f64e67bc",
   "metadata": {
    "tags": []
   },
   "outputs": [
    {
     "name": "stdout",
     "output_type": "stream",
     "text": [
      "Model saved as best_hybrid_rf_model.joblib\n"
     ]
    }
   ],
   "source": [
    "# Save the best model\n",
    "joblib.dump(best_rf, \"best_hybrid_rf_model.joblib\")\n",
    "print(\"Model saved as best_hybrid_rf_model.joblib\")"
   ]
  },
  {
   "cell_type": "code",
   "execution_count": 65,
   "id": "4bdc7899-bd56-459b-88fe-f1a75fb1f910",
   "metadata": {
    "tags": []
   },
   "outputs": [
    {
     "data": {
      "text/plain": [
       "Text(0.5, 1.0, 'Regression Results for Hybrid Vehicles')"
      ]
     },
     "execution_count": 65,
     "metadata": {},
     "output_type": "execute_result"
    },
    {
     "data": {
      "image/png": "[encoded data removed]",
      "text/plain": [
       "<Figure size 1800x600 with 2 Axes>"
      ]
     },
     "metadata": {},
     "output_type": "display_data"
    }
   ],
   "source": [
    "# Visualization\n",
    "fig, axes = plt.subplots(1, 2, figsize=(18, 6))\n",
    "\n",
    "# Scatter plot of actual vs predicted for best model\n",
    "sns.scatterplot(x=y_test_exp, y=y_pred_best_exp, ax=axes[0])\n",
    "axes[0].set_xlabel('Actual CO2_wltp')\n",
    "axes[0].set_ylabel('Predicted CO2_wltp')\n",
    "axes[0].set_title('Regression Results for Hybrid Vehicles')"
   ]
  },
  {
   "cell_type": "code",
   "execution_count": 66,
   "id": "f49830f7-e191-47af-9eb8-477c2959baee",
   "metadata": {
    "tags": []
   },
   "outputs": [
    {
     "data": {
      "text/plain": [
       "<Figure size 640x480 with 0 Axes>"
      ]
     },
     "metadata": {},
     "output_type": "display_data"
    }
   ],
   "source": [
    "# Feature importances\n",
    "importances = best_rf.feature_importances_\n",
    "indices = np.argsort(importances)[::-1]\n",
    "feature_names = X.columns\n",
    "\n",
    "# Plot feature importances\n",
    "sns.barplot(x=importances[indices], y=feature_names[indices], ax=axes[1])\n",
    "axes[1].set_title('Feature Importances')\n",
    "axes[1].set_xlabel('Importance')\n",
    "axes[1].set_ylabel('Feature')\n",
    "\n",
    "plt.tight_layout()\n",
    "plt.show()"
   ]
  },
  {
   "cell_type": "code",
   "execution_count": 67,
   "id": "5fbb87e1-2550-448e-916d-9d23c20ed1ea",
   "metadata": {},
   "outputs": [
    {
     "name": "stdout",
     "output_type": "stream",
     "text": [
      "<class 'pandas.core.frame.DataFrame'>\n",
      "Index: 1388293 entries, 73794 to 27611380\n",
      "Data columns (total 25 columns):\n",
      " #   Column                  Non-Null Count    Dtype  \n",
      "---  ------                  --------------    -----  \n",
      " 0   Unnamed: 0              1388293 non-null  int64  \n",
      " 1   Country                 1388293 non-null  object \n",
      " 2   Constructor             1388293 non-null  object \n",
      " 3   Veh_type                1388293 non-null  object \n",
      " 4   Version                 1388293 non-null  object \n",
      " 5   Brand                   1388293 non-null  object \n",
      " 6   Veh_Model               1388293 non-null  object \n",
      " 7   Veh_Category            1388293 non-null  object \n",
      " 8   Kg_veh                  1388293 non-null  float32\n",
      " 9   Test_mass               1388293 non-null  float32\n",
      " 10  CO2_wltp                1388293 non-null  float64\n",
      " 11  Wheelbase_mm            1388293 non-null  float64\n",
      " 12  Axle_width_steer_mm     1388293 non-null  float64\n",
      " 13  Axle_width_other_mm     1388293 non-null  float64\n",
      " 14  Energy                  1388293 non-null  object \n",
      " 15  Fuel_mode               1388293 non-null  object \n",
      " 16  Engine_cm3              1388293 non-null  float32\n",
      " 17  Power_KW                1388293 non-null  float32\n",
      " 18  El_Consumpt_whkm        1388293 non-null  float32\n",
      " 19  Erwltp (g/km)           1388293 non-null  float64\n",
      " 20  year                    1388293 non-null  int64  \n",
      " 21  Fuel consumption        1388293 non-null  float32\n",
      " 22  Electric range (km)     1388293 non-null  float64\n",
      " 23  Eco-innovation program  1388293 non-null  int64  \n",
      " 24  Em_on_target            1388293 non-null  int64  \n",
      "dtypes: float32(6), float64(6), int64(4), object(9)\n",
      "memory usage: 243.6+ MB\n"
     ]
    }
   ],
   "source": [
    "hybrid_df.info()"
   ]
  },
  {
   "cell_type": "code",
   "execution_count": null,
   "id": "3d0936f8-508a-4bff-bfd9-1b21d68b37ea",
   "metadata": {},
   "outputs": [],
   "source": []
  }
 ],
 "metadata": {
  "kernelspec": {
   "display_name": "Python 3 (ipykernel)",
   "language": "python",
   "name": "python3"
  },
  "language_info": {
   "codemirror_mode": {
    "name": "ipython",
    "version": 3
   },
   "file_extension": ".py",
   "mimetype": "text/x-python",
   "name": "python",
   "nbconvert_exporter": "python",
   "pygments_lexer": "ipython3",
   "version": "3.11.7"
  }
 },
 "nbformat": 4,
 "nbformat_minor": 5
}
